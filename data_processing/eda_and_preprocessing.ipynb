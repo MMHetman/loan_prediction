{
 "nbformat": 4,
 "nbformat_minor": 0,
 "metadata": {
  "colab": {
   "name": "eda_and_preprocessing.ipynb",
   "provenance": [],
   "collapsed_sections": []
  },
  "kernelspec": {
   "name": "python3",
   "display_name": "Python 3"
  },
  "language_info": {
   "name": "python"
  },
  "widgets": {
   "application/vnd.jupyter.widget-state+json": {
    "76e65da26f0846eb8f1ff1f101b77859": {
     "model_module": "@jupyter-widgets/controls",
     "model_name": "HBoxModel",
     "model_module_version": "1.5.0",
     "state": {
      "_view_name": "HBoxView",
      "_dom_classes": [],
      "_model_name": "HBoxModel",
      "_view_module": "@jupyter-widgets/controls",
      "_model_module_version": "1.5.0",
      "_view_count": null,
      "_view_module_version": "1.5.0",
      "box_style": "",
      "layout": "IPY_MODEL_6174e61f7d7142f3ad0983e04a60d3c1",
      "_model_module": "@jupyter-widgets/controls",
      "children": [
       "IPY_MODEL_7383cb8db42a4a0ab472de7891aec13d",
       "IPY_MODEL_c58cfc04d3f44b199b5517b1c3e5f6f6",
       "IPY_MODEL_d585a51215cc40aba30f227ba58400ff"
      ]
     }
    },
    "6174e61f7d7142f3ad0983e04a60d3c1": {
     "model_module": "@jupyter-widgets/base",
     "model_name": "LayoutModel",
     "model_module_version": "1.2.0",
     "state": {
      "_view_name": "LayoutView",
      "grid_template_rows": null,
      "right": null,
      "justify_content": null,
      "_view_module": "@jupyter-widgets/base",
      "overflow": null,
      "_model_module_version": "1.2.0",
      "_view_count": null,
      "flex_flow": null,
      "width": null,
      "min_width": null,
      "border": null,
      "align_items": null,
      "bottom": null,
      "_model_module": "@jupyter-widgets/base",
      "top": null,
      "grid_column": null,
      "overflow_y": null,
      "overflow_x": null,
      "grid_auto_flow": null,
      "grid_area": null,
      "grid_template_columns": null,
      "flex": null,
      "_model_name": "LayoutModel",
      "justify_items": null,
      "grid_row": null,
      "max_height": null,
      "align_content": null,
      "visibility": null,
      "align_self": null,
      "height": null,
      "min_height": null,
      "padding": null,
      "grid_auto_rows": null,
      "grid_gap": null,
      "max_width": null,
      "order": null,
      "_view_module_version": "1.2.0",
      "grid_template_areas": null,
      "object_position": null,
      "object_fit": null,
      "grid_auto_columns": null,
      "margin": null,
      "display": null,
      "left": null
     }
    },
    "7383cb8db42a4a0ab472de7891aec13d": {
     "model_module": "@jupyter-widgets/controls",
     "model_name": "HTMLModel",
     "model_module_version": "1.5.0",
     "state": {
      "_view_name": "HTMLView",
      "style": "IPY_MODEL_072bbd03a1f844759bdc713389361f35",
      "_dom_classes": [],
      "description": "",
      "_model_name": "HTMLModel",
      "placeholder": "​",
      "_view_module": "@jupyter-widgets/controls",
      "_model_module_version": "1.5.0",
      "value": "Summarize dataset: 100%",
      "_view_count": null,
      "_view_module_version": "1.5.0",
      "description_tooltip": null,
      "_model_module": "@jupyter-widgets/controls",
      "layout": "IPY_MODEL_33bf1a3abdf14a26970e77a9a3332d15"
     }
    },
    "c58cfc04d3f44b199b5517b1c3e5f6f6": {
     "model_module": "@jupyter-widgets/controls",
     "model_name": "FloatProgressModel",
     "model_module_version": "1.5.0",
     "state": {
      "_view_name": "ProgressView",
      "style": "IPY_MODEL_e28f057391c840fca9847436731cee38",
      "_dom_classes": [],
      "description": "",
      "_model_name": "FloatProgressModel",
      "bar_style": "success",
      "max": 162,
      "_view_module": "@jupyter-widgets/controls",
      "_model_module_version": "1.5.0",
      "value": 162,
      "_view_count": null,
      "_view_module_version": "1.5.0",
      "orientation": "horizontal",
      "min": 0,
      "description_tooltip": null,
      "_model_module": "@jupyter-widgets/controls",
      "layout": "IPY_MODEL_3887fcc61038404f8992e3867c0d6333"
     }
    },
    "d585a51215cc40aba30f227ba58400ff": {
     "model_module": "@jupyter-widgets/controls",
     "model_name": "HTMLModel",
     "model_module_version": "1.5.0",
     "state": {
      "_view_name": "HTMLView",
      "style": "IPY_MODEL_ca90853491dc481aaf1a73b53357897d",
      "_dom_classes": [],
      "description": "",
      "_model_name": "HTMLModel",
      "placeholder": "​",
      "_view_module": "@jupyter-widgets/controls",
      "_model_module_version": "1.5.0",
      "value": " 162/162 [01:43&lt;00:00,  2.35s/it, Completed]",
      "_view_count": null,
      "_view_module_version": "1.5.0",
      "description_tooltip": null,
      "_model_module": "@jupyter-widgets/controls",
      "layout": "IPY_MODEL_5c2ff681f2a9441595f26e5a38397b71"
     }
    },
    "072bbd03a1f844759bdc713389361f35": {
     "model_module": "@jupyter-widgets/controls",
     "model_name": "DescriptionStyleModel",
     "model_module_version": "1.5.0",
     "state": {
      "_view_name": "StyleView",
      "_model_name": "DescriptionStyleModel",
      "description_width": "",
      "_view_module": "@jupyter-widgets/base",
      "_model_module_version": "1.5.0",
      "_view_count": null,
      "_view_module_version": "1.2.0",
      "_model_module": "@jupyter-widgets/controls"
     }
    },
    "33bf1a3abdf14a26970e77a9a3332d15": {
     "model_module": "@jupyter-widgets/base",
     "model_name": "LayoutModel",
     "model_module_version": "1.2.0",
     "state": {
      "_view_name": "LayoutView",
      "grid_template_rows": null,
      "right": null,
      "justify_content": null,
      "_view_module": "@jupyter-widgets/base",
      "overflow": null,
      "_model_module_version": "1.2.0",
      "_view_count": null,
      "flex_flow": null,
      "width": null,
      "min_width": null,
      "border": null,
      "align_items": null,
      "bottom": null,
      "_model_module": "@jupyter-widgets/base",
      "top": null,
      "grid_column": null,
      "overflow_y": null,
      "overflow_x": null,
      "grid_auto_flow": null,
      "grid_area": null,
      "grid_template_columns": null,
      "flex": null,
      "_model_name": "LayoutModel",
      "justify_items": null,
      "grid_row": null,
      "max_height": null,
      "align_content": null,
      "visibility": null,
      "align_self": null,
      "height": null,
      "min_height": null,
      "padding": null,
      "grid_auto_rows": null,
      "grid_gap": null,
      "max_width": null,
      "order": null,
      "_view_module_version": "1.2.0",
      "grid_template_areas": null,
      "object_position": null,
      "object_fit": null,
      "grid_auto_columns": null,
      "margin": null,
      "display": null,
      "left": null
     }
    },
    "e28f057391c840fca9847436731cee38": {
     "model_module": "@jupyter-widgets/controls",
     "model_name": "ProgressStyleModel",
     "model_module_version": "1.5.0",
     "state": {
      "_view_name": "StyleView",
      "_model_name": "ProgressStyleModel",
      "description_width": "",
      "_view_module": "@jupyter-widgets/base",
      "_model_module_version": "1.5.0",
      "_view_count": null,
      "_view_module_version": "1.2.0",
      "bar_color": null,
      "_model_module": "@jupyter-widgets/controls"
     }
    },
    "3887fcc61038404f8992e3867c0d6333": {
     "model_module": "@jupyter-widgets/base",
     "model_name": "LayoutModel",
     "model_module_version": "1.2.0",
     "state": {
      "_view_name": "LayoutView",
      "grid_template_rows": null,
      "right": null,
      "justify_content": null,
      "_view_module": "@jupyter-widgets/base",
      "overflow": null,
      "_model_module_version": "1.2.0",
      "_view_count": null,
      "flex_flow": null,
      "width": null,
      "min_width": null,
      "border": null,
      "align_items": null,
      "bottom": null,
      "_model_module": "@jupyter-widgets/base",
      "top": null,
      "grid_column": null,
      "overflow_y": null,
      "overflow_x": null,
      "grid_auto_flow": null,
      "grid_area": null,
      "grid_template_columns": null,
      "flex": null,
      "_model_name": "LayoutModel",
      "justify_items": null,
      "grid_row": null,
      "max_height": null,
      "align_content": null,
      "visibility": null,
      "align_self": null,
      "height": null,
      "min_height": null,
      "padding": null,
      "grid_auto_rows": null,
      "grid_gap": null,
      "max_width": null,
      "order": null,
      "_view_module_version": "1.2.0",
      "grid_template_areas": null,
      "object_position": null,
      "object_fit": null,
      "grid_auto_columns": null,
      "margin": null,
      "display": null,
      "left": null
     }
    },
    "ca90853491dc481aaf1a73b53357897d": {
     "model_module": "@jupyter-widgets/controls",
     "model_name": "DescriptionStyleModel",
     "model_module_version": "1.5.0",
     "state": {
      "_view_name": "StyleView",
      "_model_name": "DescriptionStyleModel",
      "description_width": "",
      "_view_module": "@jupyter-widgets/base",
      "_model_module_version": "1.5.0",
      "_view_count": null,
      "_view_module_version": "1.2.0",
      "_model_module": "@jupyter-widgets/controls"
     }
    },
    "5c2ff681f2a9441595f26e5a38397b71": {
     "model_module": "@jupyter-widgets/base",
     "model_name": "LayoutModel",
     "model_module_version": "1.2.0",
     "state": {
      "_view_name": "LayoutView",
      "grid_template_rows": null,
      "right": null,
      "justify_content": null,
      "_view_module": "@jupyter-widgets/base",
      "overflow": null,
      "_model_module_version": "1.2.0",
      "_view_count": null,
      "flex_flow": null,
      "width": null,
      "min_width": null,
      "border": null,
      "align_items": null,
      "bottom": null,
      "_model_module": "@jupyter-widgets/base",
      "top": null,
      "grid_column": null,
      "overflow_y": null,
      "overflow_x": null,
      "grid_auto_flow": null,
      "grid_area": null,
      "grid_template_columns": null,
      "flex": null,
      "_model_name": "LayoutModel",
      "justify_items": null,
      "grid_row": null,
      "max_height": null,
      "align_content": null,
      "visibility": null,
      "align_self": null,
      "height": null,
      "min_height": null,
      "padding": null,
      "grid_auto_rows": null,
      "grid_gap": null,
      "max_width": null,
      "order": null,
      "_view_module_version": "1.2.0",
      "grid_template_areas": null,
      "object_position": null,
      "object_fit": null,
      "grid_auto_columns": null,
      "margin": null,
      "display": null,
      "left": null
     }
    },
    "03941b5ad54442faa9a0c4f12314fcad": {
     "model_module": "@jupyter-widgets/controls",
     "model_name": "HBoxModel",
     "model_module_version": "1.5.0",
     "state": {
      "_view_name": "HBoxView",
      "_dom_classes": [],
      "_model_name": "HBoxModel",
      "_view_module": "@jupyter-widgets/controls",
      "_model_module_version": "1.5.0",
      "_view_count": null,
      "_view_module_version": "1.5.0",
      "box_style": "",
      "layout": "IPY_MODEL_abff8d0a70bc4f4f8e8c67c0bb5545bf",
      "_model_module": "@jupyter-widgets/controls",
      "children": [
       "IPY_MODEL_70ee3b158be248239313963efcff7b70",
       "IPY_MODEL_11b64320c0f74d48ac1b7b3d652869c8",
       "IPY_MODEL_2d5563bf9e814945ba5a5a304812db99"
      ]
     }
    },
    "abff8d0a70bc4f4f8e8c67c0bb5545bf": {
     "model_module": "@jupyter-widgets/base",
     "model_name": "LayoutModel",
     "model_module_version": "1.2.0",
     "state": {
      "_view_name": "LayoutView",
      "grid_template_rows": null,
      "right": null,
      "justify_content": null,
      "_view_module": "@jupyter-widgets/base",
      "overflow": null,
      "_model_module_version": "1.2.0",
      "_view_count": null,
      "flex_flow": null,
      "width": null,
      "min_width": null,
      "border": null,
      "align_items": null,
      "bottom": null,
      "_model_module": "@jupyter-widgets/base",
      "top": null,
      "grid_column": null,
      "overflow_y": null,
      "overflow_x": null,
      "grid_auto_flow": null,
      "grid_area": null,
      "grid_template_columns": null,
      "flex": null,
      "_model_name": "LayoutModel",
      "justify_items": null,
      "grid_row": null,
      "max_height": null,
      "align_content": null,
      "visibility": null,
      "align_self": null,
      "height": null,
      "min_height": null,
      "padding": null,
      "grid_auto_rows": null,
      "grid_gap": null,
      "max_width": null,
      "order": null,
      "_view_module_version": "1.2.0",
      "grid_template_areas": null,
      "object_position": null,
      "object_fit": null,
      "grid_auto_columns": null,
      "margin": null,
      "display": null,
      "left": null
     }
    },
    "70ee3b158be248239313963efcff7b70": {
     "model_module": "@jupyter-widgets/controls",
     "model_name": "HTMLModel",
     "model_module_version": "1.5.0",
     "state": {
      "_view_name": "HTMLView",
      "style": "IPY_MODEL_a3a09e07e2c64ed784a0b89672be2f51",
      "_dom_classes": [],
      "description": "",
      "_model_name": "HTMLModel",
      "placeholder": "​",
      "_view_module": "@jupyter-widgets/controls",
      "_model_module_version": "1.5.0",
      "value": "Generate report structure: 100%",
      "_view_count": null,
      "_view_module_version": "1.5.0",
      "description_tooltip": null,
      "_model_module": "@jupyter-widgets/controls",
      "layout": "IPY_MODEL_0029cb9e35884fc495e08cd5c964bc15"
     }
    },
    "11b64320c0f74d48ac1b7b3d652869c8": {
     "model_module": "@jupyter-widgets/controls",
     "model_name": "FloatProgressModel",
     "model_module_version": "1.5.0",
     "state": {
      "_view_name": "ProgressView",
      "style": "IPY_MODEL_eb5e94fbb8f145dda633fa6c425160bc",
      "_dom_classes": [],
      "description": "",
      "_model_name": "FloatProgressModel",
      "bar_style": "success",
      "max": 1,
      "_view_module": "@jupyter-widgets/controls",
      "_model_module_version": "1.5.0",
      "value": 1,
      "_view_count": null,
      "_view_module_version": "1.5.0",
      "orientation": "horizontal",
      "min": 0,
      "description_tooltip": null,
      "_model_module": "@jupyter-widgets/controls",
      "layout": "IPY_MODEL_620255828a894827b97875b6c735ca68"
     }
    },
    "2d5563bf9e814945ba5a5a304812db99": {
     "model_module": "@jupyter-widgets/controls",
     "model_name": "HTMLModel",
     "model_module_version": "1.5.0",
     "state": {
      "_view_name": "HTMLView",
      "style": "IPY_MODEL_1303106254bc4b57a1480de445b839be",
      "_dom_classes": [],
      "description": "",
      "_model_name": "HTMLModel",
      "placeholder": "​",
      "_view_module": "@jupyter-widgets/controls",
      "_model_module_version": "1.5.0",
      "value": " 1/1 [01:02&lt;00:00, 62.84s/it]",
      "_view_count": null,
      "_view_module_version": "1.5.0",
      "description_tooltip": null,
      "_model_module": "@jupyter-widgets/controls",
      "layout": "IPY_MODEL_5a8e5c18065946b1b9d342f59be9c55c"
     }
    },
    "a3a09e07e2c64ed784a0b89672be2f51": {
     "model_module": "@jupyter-widgets/controls",
     "model_name": "DescriptionStyleModel",
     "model_module_version": "1.5.0",
     "state": {
      "_view_name": "StyleView",
      "_model_name": "DescriptionStyleModel",
      "description_width": "",
      "_view_module": "@jupyter-widgets/base",
      "_model_module_version": "1.5.0",
      "_view_count": null,
      "_view_module_version": "1.2.0",
      "_model_module": "@jupyter-widgets/controls"
     }
    },
    "0029cb9e35884fc495e08cd5c964bc15": {
     "model_module": "@jupyter-widgets/base",
     "model_name": "LayoutModel",
     "model_module_version": "1.2.0",
     "state": {
      "_view_name": "LayoutView",
      "grid_template_rows": null,
      "right": null,
      "justify_content": null,
      "_view_module": "@jupyter-widgets/base",
      "overflow": null,
      "_model_module_version": "1.2.0",
      "_view_count": null,
      "flex_flow": null,
      "width": null,
      "min_width": null,
      "border": null,
      "align_items": null,
      "bottom": null,
      "_model_module": "@jupyter-widgets/base",
      "top": null,
      "grid_column": null,
      "overflow_y": null,
      "overflow_x": null,
      "grid_auto_flow": null,
      "grid_area": null,
      "grid_template_columns": null,
      "flex": null,
      "_model_name": "LayoutModel",
      "justify_items": null,
      "grid_row": null,
      "max_height": null,
      "align_content": null,
      "visibility": null,
      "align_self": null,
      "height": null,
      "min_height": null,
      "padding": null,
      "grid_auto_rows": null,
      "grid_gap": null,
      "max_width": null,
      "order": null,
      "_view_module_version": "1.2.0",
      "grid_template_areas": null,
      "object_position": null,
      "object_fit": null,
      "grid_auto_columns": null,
      "margin": null,
      "display": null,
      "left": null
     }
    },
    "eb5e94fbb8f145dda633fa6c425160bc": {
     "model_module": "@jupyter-widgets/controls",
     "model_name": "ProgressStyleModel",
     "model_module_version": "1.5.0",
     "state": {
      "_view_name": "StyleView",
      "_model_name": "ProgressStyleModel",
      "description_width": "",
      "_view_module": "@jupyter-widgets/base",
      "_model_module_version": "1.5.0",
      "_view_count": null,
      "_view_module_version": "1.2.0",
      "bar_color": null,
      "_model_module": "@jupyter-widgets/controls"
     }
    },
    "620255828a894827b97875b6c735ca68": {
     "model_module": "@jupyter-widgets/base",
     "model_name": "LayoutModel",
     "model_module_version": "1.2.0",
     "state": {
      "_view_name": "LayoutView",
      "grid_template_rows": null,
      "right": null,
      "justify_content": null,
      "_view_module": "@jupyter-widgets/base",
      "overflow": null,
      "_model_module_version": "1.2.0",
      "_view_count": null,
      "flex_flow": null,
      "width": null,
      "min_width": null,
      "border": null,
      "align_items": null,
      "bottom": null,
      "_model_module": "@jupyter-widgets/base",
      "top": null,
      "grid_column": null,
      "overflow_y": null,
      "overflow_x": null,
      "grid_auto_flow": null,
      "grid_area": null,
      "grid_template_columns": null,
      "flex": null,
      "_model_name": "LayoutModel",
      "justify_items": null,
      "grid_row": null,
      "max_height": null,
      "align_content": null,
      "visibility": null,
      "align_self": null,
      "height": null,
      "min_height": null,
      "padding": null,
      "grid_auto_rows": null,
      "grid_gap": null,
      "max_width": null,
      "order": null,
      "_view_module_version": "1.2.0",
      "grid_template_areas": null,
      "object_position": null,
      "object_fit": null,
      "grid_auto_columns": null,
      "margin": null,
      "display": null,
      "left": null
     }
    },
    "1303106254bc4b57a1480de445b839be": {
     "model_module": "@jupyter-widgets/controls",
     "model_name": "DescriptionStyleModel",
     "model_module_version": "1.5.0",
     "state": {
      "_view_name": "StyleView",
      "_model_name": "DescriptionStyleModel",
      "description_width": "",
      "_view_module": "@jupyter-widgets/base",
      "_model_module_version": "1.5.0",
      "_view_count": null,
      "_view_module_version": "1.2.0",
      "_model_module": "@jupyter-widgets/controls"
     }
    },
    "5a8e5c18065946b1b9d342f59be9c55c": {
     "model_module": "@jupyter-widgets/base",
     "model_name": "LayoutModel",
     "model_module_version": "1.2.0",
     "state": {
      "_view_name": "LayoutView",
      "grid_template_rows": null,
      "right": null,
      "justify_content": null,
      "_view_module": "@jupyter-widgets/base",
      "overflow": null,
      "_model_module_version": "1.2.0",
      "_view_count": null,
      "flex_flow": null,
      "width": null,
      "min_width": null,
      "border": null,
      "align_items": null,
      "bottom": null,
      "_model_module": "@jupyter-widgets/base",
      "top": null,
      "grid_column": null,
      "overflow_y": null,
      "overflow_x": null,
      "grid_auto_flow": null,
      "grid_area": null,
      "grid_template_columns": null,
      "flex": null,
      "_model_name": "LayoutModel",
      "justify_items": null,
      "grid_row": null,
      "max_height": null,
      "align_content": null,
      "visibility": null,
      "align_self": null,
      "height": null,
      "min_height": null,
      "padding": null,
      "grid_auto_rows": null,
      "grid_gap": null,
      "max_width": null,
      "order": null,
      "_view_module_version": "1.2.0",
      "grid_template_areas": null,
      "object_position": null,
      "object_fit": null,
      "grid_auto_columns": null,
      "margin": null,
      "display": null,
      "left": null
     }
    },
    "0beb8cf1042649e698bda45aef85a9bd": {
     "model_module": "@jupyter-widgets/controls",
     "model_name": "HBoxModel",
     "model_module_version": "1.5.0",
     "state": {
      "_view_name": "HBoxView",
      "_dom_classes": [],
      "_model_name": "HBoxModel",
      "_view_module": "@jupyter-widgets/controls",
      "_model_module_version": "1.5.0",
      "_view_count": null,
      "_view_module_version": "1.5.0",
      "box_style": "",
      "layout": "IPY_MODEL_a6789c2a4290445a98c20e10d70cc990",
      "_model_module": "@jupyter-widgets/controls",
      "children": [
       "IPY_MODEL_6811e0936e3b42989a7d08d8a587b709",
       "IPY_MODEL_1924eb05bcb84a51ad33d83db1df43bc",
       "IPY_MODEL_c8b23480d1eb4559aebea03912c979cf"
      ]
     }
    },
    "a6789c2a4290445a98c20e10d70cc990": {
     "model_module": "@jupyter-widgets/base",
     "model_name": "LayoutModel",
     "model_module_version": "1.2.0",
     "state": {
      "_view_name": "LayoutView",
      "grid_template_rows": null,
      "right": null,
      "justify_content": null,
      "_view_module": "@jupyter-widgets/base",
      "overflow": null,
      "_model_module_version": "1.2.0",
      "_view_count": null,
      "flex_flow": null,
      "width": null,
      "min_width": null,
      "border": null,
      "align_items": null,
      "bottom": null,
      "_model_module": "@jupyter-widgets/base",
      "top": null,
      "grid_column": null,
      "overflow_y": null,
      "overflow_x": null,
      "grid_auto_flow": null,
      "grid_area": null,
      "grid_template_columns": null,
      "flex": null,
      "_model_name": "LayoutModel",
      "justify_items": null,
      "grid_row": null,
      "max_height": null,
      "align_content": null,
      "visibility": null,
      "align_self": null,
      "height": null,
      "min_height": null,
      "padding": null,
      "grid_auto_rows": null,
      "grid_gap": null,
      "max_width": null,
      "order": null,
      "_view_module_version": "1.2.0",
      "grid_template_areas": null,
      "object_position": null,
      "object_fit": null,
      "grid_auto_columns": null,
      "margin": null,
      "display": null,
      "left": null
     }
    },
    "6811e0936e3b42989a7d08d8a587b709": {
     "model_module": "@jupyter-widgets/controls",
     "model_name": "HTMLModel",
     "model_module_version": "1.5.0",
     "state": {
      "_view_name": "HTMLView",
      "style": "IPY_MODEL_00d54fc6e0c945709f49ac74adf80fdd",
      "_dom_classes": [],
      "description": "",
      "_model_name": "HTMLModel",
      "placeholder": "​",
      "_view_module": "@jupyter-widgets/controls",
      "_model_module_version": "1.5.0",
      "value": "Render HTML: 100%",
      "_view_count": null,
      "_view_module_version": "1.5.0",
      "description_tooltip": null,
      "_model_module": "@jupyter-widgets/controls",
      "layout": "IPY_MODEL_7656d31c6b7c4df295ff7270a129a335"
     }
    },
    "1924eb05bcb84a51ad33d83db1df43bc": {
     "model_module": "@jupyter-widgets/controls",
     "model_name": "FloatProgressModel",
     "model_module_version": "1.5.0",
     "state": {
      "_view_name": "ProgressView",
      "style": "IPY_MODEL_6244cdd51d7f4aff831fb910cb3e4da4",
      "_dom_classes": [],
      "description": "",
      "_model_name": "FloatProgressModel",
      "bar_style": "success",
      "max": 1,
      "_view_module": "@jupyter-widgets/controls",
      "_model_module_version": "1.5.0",
      "value": 1,
      "_view_count": null,
      "_view_module_version": "1.5.0",
      "orientation": "horizontal",
      "min": 0,
      "description_tooltip": null,
      "_model_module": "@jupyter-widgets/controls",
      "layout": "IPY_MODEL_ffff2649d3ac4b08acccfda48460b15e"
     }
    },
    "c8b23480d1eb4559aebea03912c979cf": {
     "model_module": "@jupyter-widgets/controls",
     "model_name": "HTMLModel",
     "model_module_version": "1.5.0",
     "state": {
      "_view_name": "HTMLView",
      "style": "IPY_MODEL_586caeadd9fc4402949c67bf0e63f572",
      "_dom_classes": [],
      "description": "",
      "_model_name": "HTMLModel",
      "placeholder": "​",
      "_view_module": "@jupyter-widgets/controls",
      "_model_module_version": "1.5.0",
      "value": " 1/1 [00:03&lt;00:00,  3.07s/it]",
      "_view_count": null,
      "_view_module_version": "1.5.0",
      "description_tooltip": null,
      "_model_module": "@jupyter-widgets/controls",
      "layout": "IPY_MODEL_bb6a085eeaf8453e8ab6e1e016b60e81"
     }
    },
    "00d54fc6e0c945709f49ac74adf80fdd": {
     "model_module": "@jupyter-widgets/controls",
     "model_name": "DescriptionStyleModel",
     "model_module_version": "1.5.0",
     "state": {
      "_view_name": "StyleView",
      "_model_name": "DescriptionStyleModel",
      "description_width": "",
      "_view_module": "@jupyter-widgets/base",
      "_model_module_version": "1.5.0",
      "_view_count": null,
      "_view_module_version": "1.2.0",
      "_model_module": "@jupyter-widgets/controls"
     }
    },
    "7656d31c6b7c4df295ff7270a129a335": {
     "model_module": "@jupyter-widgets/base",
     "model_name": "LayoutModel",
     "model_module_version": "1.2.0",
     "state": {
      "_view_name": "LayoutView",
      "grid_template_rows": null,
      "right": null,
      "justify_content": null,
      "_view_module": "@jupyter-widgets/base",
      "overflow": null,
      "_model_module_version": "1.2.0",
      "_view_count": null,
      "flex_flow": null,
      "width": null,
      "min_width": null,
      "border": null,
      "align_items": null,
      "bottom": null,
      "_model_module": "@jupyter-widgets/base",
      "top": null,
      "grid_column": null,
      "overflow_y": null,
      "overflow_x": null,
      "grid_auto_flow": null,
      "grid_area": null,
      "grid_template_columns": null,
      "flex": null,
      "_model_name": "LayoutModel",
      "justify_items": null,
      "grid_row": null,
      "max_height": null,
      "align_content": null,
      "visibility": null,
      "align_self": null,
      "height": null,
      "min_height": null,
      "padding": null,
      "grid_auto_rows": null,
      "grid_gap": null,
      "max_width": null,
      "order": null,
      "_view_module_version": "1.2.0",
      "grid_template_areas": null,
      "object_position": null,
      "object_fit": null,
      "grid_auto_columns": null,
      "margin": null,
      "display": null,
      "left": null
     }
    },
    "6244cdd51d7f4aff831fb910cb3e4da4": {
     "model_module": "@jupyter-widgets/controls",
     "model_name": "ProgressStyleModel",
     "model_module_version": "1.5.0",
     "state": {
      "_view_name": "StyleView",
      "_model_name": "ProgressStyleModel",
      "description_width": "",
      "_view_module": "@jupyter-widgets/base",
      "_model_module_version": "1.5.0",
      "_view_count": null,
      "_view_module_version": "1.2.0",
      "bar_color": null,
      "_model_module": "@jupyter-widgets/controls"
     }
    },
    "ffff2649d3ac4b08acccfda48460b15e": {
     "model_module": "@jupyter-widgets/base",
     "model_name": "LayoutModel",
     "model_module_version": "1.2.0",
     "state": {
      "_view_name": "LayoutView",
      "grid_template_rows": null,
      "right": null,
      "justify_content": null,
      "_view_module": "@jupyter-widgets/base",
      "overflow": null,
      "_model_module_version": "1.2.0",
      "_view_count": null,
      "flex_flow": null,
      "width": null,
      "min_width": null,
      "border": null,
      "align_items": null,
      "bottom": null,
      "_model_module": "@jupyter-widgets/base",
      "top": null,
      "grid_column": null,
      "overflow_y": null,
      "overflow_x": null,
      "grid_auto_flow": null,
      "grid_area": null,
      "grid_template_columns": null,
      "flex": null,
      "_model_name": "LayoutModel",
      "justify_items": null,
      "grid_row": null,
      "max_height": null,
      "align_content": null,
      "visibility": null,
      "align_self": null,
      "height": null,
      "min_height": null,
      "padding": null,
      "grid_auto_rows": null,
      "grid_gap": null,
      "max_width": null,
      "order": null,
      "_view_module_version": "1.2.0",
      "grid_template_areas": null,
      "object_position": null,
      "object_fit": null,
      "grid_auto_columns": null,
      "margin": null,
      "display": null,
      "left": null
     }
    },
    "586caeadd9fc4402949c67bf0e63f572": {
     "model_module": "@jupyter-widgets/controls",
     "model_name": "DescriptionStyleModel",
     "model_module_version": "1.5.0",
     "state": {
      "_view_name": "StyleView",
      "_model_name": "DescriptionStyleModel",
      "description_width": "",
      "_view_module": "@jupyter-widgets/base",
      "_model_module_version": "1.5.0",
      "_view_count": null,
      "_view_module_version": "1.2.0",
      "_model_module": "@jupyter-widgets/controls"
     }
    },
    "bb6a085eeaf8453e8ab6e1e016b60e81": {
     "model_module": "@jupyter-widgets/base",
     "model_name": "LayoutModel",
     "model_module_version": "1.2.0",
     "state": {
      "_view_name": "LayoutView",
      "grid_template_rows": null,
      "right": null,
      "justify_content": null,
      "_view_module": "@jupyter-widgets/base",
      "overflow": null,
      "_model_module_version": "1.2.0",
      "_view_count": null,
      "flex_flow": null,
      "width": null,
      "min_width": null,
      "border": null,
      "align_items": null,
      "bottom": null,
      "_model_module": "@jupyter-widgets/base",
      "top": null,
      "grid_column": null,
      "overflow_y": null,
      "overflow_x": null,
      "grid_auto_flow": null,
      "grid_area": null,
      "grid_template_columns": null,
      "flex": null,
      "_model_name": "LayoutModel",
      "justify_items": null,
      "grid_row": null,
      "max_height": null,
      "align_content": null,
      "visibility": null,
      "align_self": null,
      "height": null,
      "min_height": null,
      "padding": null,
      "grid_auto_rows": null,
      "grid_gap": null,
      "max_width": null,
      "order": null,
      "_view_module_version": "1.2.0",
      "grid_template_areas": null,
      "object_position": null,
      "object_fit": null,
      "grid_auto_columns": null,
      "margin": null,
      "display": null,
      "left": null
     }
    },
    "2b10b009a89f445aaee6fbfc1ac2bb30": {
     "model_module": "@jupyter-widgets/controls",
     "model_name": "HBoxModel",
     "model_module_version": "1.5.0",
     "state": {
      "_view_name": "HBoxView",
      "_dom_classes": [],
      "_model_name": "HBoxModel",
      "_view_module": "@jupyter-widgets/controls",
      "_model_module_version": "1.5.0",
      "_view_count": null,
      "_view_module_version": "1.5.0",
      "box_style": "",
      "layout": "IPY_MODEL_740e8c675738481db8782d54be7488a0",
      "_model_module": "@jupyter-widgets/controls",
      "children": [
       "IPY_MODEL_15500dac251b412f881e98a969a65c67",
       "IPY_MODEL_62fcb3f9778640e1a57d7393b55d231a",
       "IPY_MODEL_fabe063f1e9c479e8ff97838e2c280b2"
      ]
     }
    },
    "740e8c675738481db8782d54be7488a0": {
     "model_module": "@jupyter-widgets/base",
     "model_name": "LayoutModel",
     "model_module_version": "1.2.0",
     "state": {
      "_view_name": "LayoutView",
      "grid_template_rows": null,
      "right": null,
      "justify_content": null,
      "_view_module": "@jupyter-widgets/base",
      "overflow": null,
      "_model_module_version": "1.2.0",
      "_view_count": null,
      "flex_flow": null,
      "width": null,
      "min_width": null,
      "border": null,
      "align_items": null,
      "bottom": null,
      "_model_module": "@jupyter-widgets/base",
      "top": null,
      "grid_column": null,
      "overflow_y": null,
      "overflow_x": null,
      "grid_auto_flow": null,
      "grid_area": null,
      "grid_template_columns": null,
      "flex": null,
      "_model_name": "LayoutModel",
      "justify_items": null,
      "grid_row": null,
      "max_height": null,
      "align_content": null,
      "visibility": null,
      "align_self": null,
      "height": null,
      "min_height": null,
      "padding": null,
      "grid_auto_rows": null,
      "grid_gap": null,
      "max_width": null,
      "order": null,
      "_view_module_version": "1.2.0",
      "grid_template_areas": null,
      "object_position": null,
      "object_fit": null,
      "grid_auto_columns": null,
      "margin": null,
      "display": null,
      "left": null
     }
    },
    "15500dac251b412f881e98a969a65c67": {
     "model_module": "@jupyter-widgets/controls",
     "model_name": "HTMLModel",
     "model_module_version": "1.5.0",
     "state": {
      "_view_name": "HTMLView",
      "style": "IPY_MODEL_9e4479452f944a0097bceb7f34fe630d",
      "_dom_classes": [],
      "description": "",
      "_model_name": "HTMLModel",
      "placeholder": "​",
      "_view_module": "@jupyter-widgets/controls",
      "_model_module_version": "1.5.0",
      "value": "Export report to file: 100%",
      "_view_count": null,
      "_view_module_version": "1.5.0",
      "description_tooltip": null,
      "_model_module": "@jupyter-widgets/controls",
      "layout": "IPY_MODEL_c7bf6fe3a49941c6a0f50a573329ddd5"
     }
    },
    "62fcb3f9778640e1a57d7393b55d231a": {
     "model_module": "@jupyter-widgets/controls",
     "model_name": "FloatProgressModel",
     "model_module_version": "1.5.0",
     "state": {
      "_view_name": "ProgressView",
      "style": "IPY_MODEL_f862760e6f354a44be004146995834ed",
      "_dom_classes": [],
      "description": "",
      "_model_name": "FloatProgressModel",
      "bar_style": "success",
      "max": 1,
      "_view_module": "@jupyter-widgets/controls",
      "_model_module_version": "1.5.0",
      "value": 1,
      "_view_count": null,
      "_view_module_version": "1.5.0",
      "orientation": "horizontal",
      "min": 0,
      "description_tooltip": null,
      "_model_module": "@jupyter-widgets/controls",
      "layout": "IPY_MODEL_799869c354974bda803192bd94e4f600"
     }
    },
    "fabe063f1e9c479e8ff97838e2c280b2": {
     "model_module": "@jupyter-widgets/controls",
     "model_name": "HTMLModel",
     "model_module_version": "1.5.0",
     "state": {
      "_view_name": "HTMLView",
      "style": "IPY_MODEL_343e5f17ca484f86b65b751d32f05269",
      "_dom_classes": [],
      "description": "",
      "_model_name": "HTMLModel",
      "placeholder": "​",
      "_view_module": "@jupyter-widgets/controls",
      "_model_module_version": "1.5.0",
      "value": " 1/1 [00:00&lt;00:00,  2.61it/s]",
      "_view_count": null,
      "_view_module_version": "1.5.0",
      "description_tooltip": null,
      "_model_module": "@jupyter-widgets/controls",
      "layout": "IPY_MODEL_47851ffa981341e4bbb8582c78f1d391"
     }
    },
    "9e4479452f944a0097bceb7f34fe630d": {
     "model_module": "@jupyter-widgets/controls",
     "model_name": "DescriptionStyleModel",
     "model_module_version": "1.5.0",
     "state": {
      "_view_name": "StyleView",
      "_model_name": "DescriptionStyleModel",
      "description_width": "",
      "_view_module": "@jupyter-widgets/base",
      "_model_module_version": "1.5.0",
      "_view_count": null,
      "_view_module_version": "1.2.0",
      "_model_module": "@jupyter-widgets/controls"
     }
    },
    "c7bf6fe3a49941c6a0f50a573329ddd5": {
     "model_module": "@jupyter-widgets/base",
     "model_name": "LayoutModel",
     "model_module_version": "1.2.0",
     "state": {
      "_view_name": "LayoutView",
      "grid_template_rows": null,
      "right": null,
      "justify_content": null,
      "_view_module": "@jupyter-widgets/base",
      "overflow": null,
      "_model_module_version": "1.2.0",
      "_view_count": null,
      "flex_flow": null,
      "width": null,
      "min_width": null,
      "border": null,
      "align_items": null,
      "bottom": null,
      "_model_module": "@jupyter-widgets/base",
      "top": null,
      "grid_column": null,
      "overflow_y": null,
      "overflow_x": null,
      "grid_auto_flow": null,
      "grid_area": null,
      "grid_template_columns": null,
      "flex": null,
      "_model_name": "LayoutModel",
      "justify_items": null,
      "grid_row": null,
      "max_height": null,
      "align_content": null,
      "visibility": null,
      "align_self": null,
      "height": null,
      "min_height": null,
      "padding": null,
      "grid_auto_rows": null,
      "grid_gap": null,
      "max_width": null,
      "order": null,
      "_view_module_version": "1.2.0",
      "grid_template_areas": null,
      "object_position": null,
      "object_fit": null,
      "grid_auto_columns": null,
      "margin": null,
      "display": null,
      "left": null
     }
    },
    "f862760e6f354a44be004146995834ed": {
     "model_module": "@jupyter-widgets/controls",
     "model_name": "ProgressStyleModel",
     "model_module_version": "1.5.0",
     "state": {
      "_view_name": "StyleView",
      "_model_name": "ProgressStyleModel",
      "description_width": "",
      "_view_module": "@jupyter-widgets/base",
      "_model_module_version": "1.5.0",
      "_view_count": null,
      "_view_module_version": "1.2.0",
      "bar_color": null,
      "_model_module": "@jupyter-widgets/controls"
     }
    },
    "799869c354974bda803192bd94e4f600": {
     "model_module": "@jupyter-widgets/base",
     "model_name": "LayoutModel",
     "model_module_version": "1.2.0",
     "state": {
      "_view_name": "LayoutView",
      "grid_template_rows": null,
      "right": null,
      "justify_content": null,
      "_view_module": "@jupyter-widgets/base",
      "overflow": null,
      "_model_module_version": "1.2.0",
      "_view_count": null,
      "flex_flow": null,
      "width": null,
      "min_width": null,
      "border": null,
      "align_items": null,
      "bottom": null,
      "_model_module": "@jupyter-widgets/base",
      "top": null,
      "grid_column": null,
      "overflow_y": null,
      "overflow_x": null,
      "grid_auto_flow": null,
      "grid_area": null,
      "grid_template_columns": null,
      "flex": null,
      "_model_name": "LayoutModel",
      "justify_items": null,
      "grid_row": null,
      "max_height": null,
      "align_content": null,
      "visibility": null,
      "align_self": null,
      "height": null,
      "min_height": null,
      "padding": null,
      "grid_auto_rows": null,
      "grid_gap": null,
      "max_width": null,
      "order": null,
      "_view_module_version": "1.2.0",
      "grid_template_areas": null,
      "object_position": null,
      "object_fit": null,
      "grid_auto_columns": null,
      "margin": null,
      "display": null,
      "left": null
     }
    },
    "343e5f17ca484f86b65b751d32f05269": {
     "model_module": "@jupyter-widgets/controls",
     "model_name": "DescriptionStyleModel",
     "model_module_version": "1.5.0",
     "state": {
      "_view_name": "StyleView",
      "_model_name": "DescriptionStyleModel",
      "description_width": "",
      "_view_module": "@jupyter-widgets/base",
      "_model_module_version": "1.5.0",
      "_view_count": null,
      "_view_module_version": "1.2.0",
      "_model_module": "@jupyter-widgets/controls"
     }
    },
    "47851ffa981341e4bbb8582c78f1d391": {
     "model_module": "@jupyter-widgets/base",
     "model_name": "LayoutModel",
     "model_module_version": "1.2.0",
     "state": {
      "_view_name": "LayoutView",
      "grid_template_rows": null,
      "right": null,
      "justify_content": null,
      "_view_module": "@jupyter-widgets/base",
      "overflow": null,
      "_model_module_version": "1.2.0",
      "_view_count": null,
      "flex_flow": null,
      "width": null,
      "min_width": null,
      "border": null,
      "align_items": null,
      "bottom": null,
      "_model_module": "@jupyter-widgets/base",
      "top": null,
      "grid_column": null,
      "overflow_y": null,
      "overflow_x": null,
      "grid_auto_flow": null,
      "grid_area": null,
      "grid_template_columns": null,
      "flex": null,
      "_model_name": "LayoutModel",
      "justify_items": null,
      "grid_row": null,
      "max_height": null,
      "align_content": null,
      "visibility": null,
      "align_self": null,
      "height": null,
      "min_height": null,
      "padding": null,
      "grid_auto_rows": null,
      "grid_gap": null,
      "max_width": null,
      "order": null,
      "_view_module_version": "1.2.0",
      "grid_template_areas": null,
      "object_position": null,
      "object_fit": null,
      "grid_auto_columns": null,
      "margin": null,
      "display": null,
      "left": null
     }
    },
    "b4ecb4c41abc41f1882d449bae820098": {
     "model_module": "@jupyter-widgets/controls",
     "model_name": "HBoxModel",
     "model_module_version": "1.5.0",
     "state": {
      "_view_name": "HBoxView",
      "_dom_classes": [],
      "_model_name": "HBoxModel",
      "_view_module": "@jupyter-widgets/controls",
      "_model_module_version": "1.5.0",
      "_view_count": null,
      "_view_module_version": "1.5.0",
      "box_style": "",
      "layout": "IPY_MODEL_f1f16f1940584d2ea21a8787b318f655",
      "_model_module": "@jupyter-widgets/controls",
      "children": [
       "IPY_MODEL_6385749f07f84215b12f7fd1ac630c73",
       "IPY_MODEL_fd50a99be1dc47e6ad6487ce7a43780a",
       "IPY_MODEL_bccd2124376b4a97a689e1f25ea91f58"
      ]
     }
    },
    "f1f16f1940584d2ea21a8787b318f655": {
     "model_module": "@jupyter-widgets/base",
     "model_name": "LayoutModel",
     "model_module_version": "1.2.0",
     "state": {
      "_view_name": "LayoutView",
      "grid_template_rows": null,
      "right": null,
      "justify_content": null,
      "_view_module": "@jupyter-widgets/base",
      "overflow": null,
      "_model_module_version": "1.2.0",
      "_view_count": null,
      "flex_flow": "row wrap",
      "width": "100%",
      "min_width": null,
      "border": null,
      "align_items": null,
      "bottom": null,
      "_model_module": "@jupyter-widgets/base",
      "top": null,
      "grid_column": null,
      "overflow_y": null,
      "overflow_x": null,
      "grid_auto_flow": null,
      "grid_area": null,
      "grid_template_columns": null,
      "flex": null,
      "_model_name": "LayoutModel",
      "justify_items": null,
      "grid_row": null,
      "max_height": null,
      "align_content": null,
      "visibility": null,
      "align_self": null,
      "height": null,
      "min_height": null,
      "padding": null,
      "grid_auto_rows": null,
      "grid_gap": null,
      "max_width": null,
      "order": null,
      "_view_module_version": "1.2.0",
      "grid_template_areas": null,
      "object_position": null,
      "object_fit": null,
      "grid_auto_columns": null,
      "margin": null,
      "display": "inline-flex",
      "left": null
     }
    },
    "6385749f07f84215b12f7fd1ac630c73": {
     "model_module": "@jupyter-widgets/controls",
     "model_name": "HTMLModel",
     "model_module_version": "1.5.0",
     "state": {
      "_view_name": "HTMLView",
      "style": "IPY_MODEL_fc754a8253d64c5aabc3cf99783ade6a",
      "_dom_classes": [],
      "description": "",
      "_model_name": "HTMLModel",
      "placeholder": "​",
      "_view_module": "@jupyter-widgets/controls",
      "_model_module_version": "1.5.0",
      "value": "Done! Use &#x27;show&#x27; commands to display/save.   ",
      "_view_count": null,
      "_view_module_version": "1.5.0",
      "description_tooltip": null,
      "_model_module": "@jupyter-widgets/controls",
      "layout": "IPY_MODEL_b9bff30dd7814a7fb3e45ea1f4b8d1aa"
     }
    },
    "fd50a99be1dc47e6ad6487ce7a43780a": {
     "model_module": "@jupyter-widgets/controls",
     "model_name": "FloatProgressModel",
     "model_module_version": "1.5.0",
     "state": {
      "_view_name": "ProgressView",
      "style": "IPY_MODEL_1b35515c0ac14202ba2c583c499cb3f1",
      "_dom_classes": [],
      "description": "",
      "_model_name": "FloatProgressModel",
      "bar_style": "success",
      "max": 1,
      "_view_module": "@jupyter-widgets/controls",
      "_model_module_version": "1.5.0",
      "value": 1,
      "_view_count": null,
      "_view_module_version": "1.5.0",
      "orientation": "horizontal",
      "min": 0,
      "description_tooltip": null,
      "_model_module": "@jupyter-widgets/controls",
      "layout": "IPY_MODEL_1de407ddd766439b91d95339d8b85b75"
     }
    },
    "bccd2124376b4a97a689e1f25ea91f58": {
     "model_module": "@jupyter-widgets/controls",
     "model_name": "HTMLModel",
     "model_module_version": "1.5.0",
     "state": {
      "_view_name": "HTMLView",
      "style": "IPY_MODEL_8714df9700f542458d1e226328db8cbc",
      "_dom_classes": [],
      "description": "",
      "_model_name": "HTMLModel",
      "placeholder": "​",
      "_view_module": "@jupyter-widgets/controls",
      "_model_module_version": "1.5.0",
      "value": " [100%]   00:06 -&gt; (00:00 left)",
      "_view_count": null,
      "_view_module_version": "1.5.0",
      "description_tooltip": null,
      "_model_module": "@jupyter-widgets/controls",
      "layout": "IPY_MODEL_d67f65ab5a2b462a8076e490ef968c39"
     }
    },
    "fc754a8253d64c5aabc3cf99783ade6a": {
     "model_module": "@jupyter-widgets/controls",
     "model_name": "DescriptionStyleModel",
     "model_module_version": "1.5.0",
     "state": {
      "_view_name": "StyleView",
      "_model_name": "DescriptionStyleModel",
      "description_width": "",
      "_view_module": "@jupyter-widgets/base",
      "_model_module_version": "1.5.0",
      "_view_count": null,
      "_view_module_version": "1.2.0",
      "_model_module": "@jupyter-widgets/controls"
     }
    },
    "b9bff30dd7814a7fb3e45ea1f4b8d1aa": {
     "model_module": "@jupyter-widgets/base",
     "model_name": "LayoutModel",
     "model_module_version": "1.2.0",
     "state": {
      "_view_name": "LayoutView",
      "grid_template_rows": null,
      "right": null,
      "justify_content": null,
      "_view_module": "@jupyter-widgets/base",
      "overflow": null,
      "_model_module_version": "1.2.0",
      "_view_count": null,
      "flex_flow": null,
      "width": null,
      "min_width": null,
      "border": null,
      "align_items": null,
      "bottom": null,
      "_model_module": "@jupyter-widgets/base",
      "top": null,
      "grid_column": null,
      "overflow_y": null,
      "overflow_x": null,
      "grid_auto_flow": null,
      "grid_area": null,
      "grid_template_columns": null,
      "flex": null,
      "_model_name": "LayoutModel",
      "justify_items": null,
      "grid_row": null,
      "max_height": null,
      "align_content": null,
      "visibility": null,
      "align_self": null,
      "height": null,
      "min_height": null,
      "padding": null,
      "grid_auto_rows": null,
      "grid_gap": null,
      "max_width": null,
      "order": null,
      "_view_module_version": "1.2.0",
      "grid_template_areas": null,
      "object_position": null,
      "object_fit": null,
      "grid_auto_columns": null,
      "margin": null,
      "display": null,
      "left": null
     }
    },
    "1b35515c0ac14202ba2c583c499cb3f1": {
     "model_module": "@jupyter-widgets/controls",
     "model_name": "ProgressStyleModel",
     "model_module_version": "1.5.0",
     "state": {
      "_view_name": "StyleView",
      "_model_name": "ProgressStyleModel",
      "description_width": "",
      "_view_module": "@jupyter-widgets/base",
      "_model_module_version": "1.5.0",
      "_view_count": null,
      "_view_module_version": "1.2.0",
      "bar_color": null,
      "_model_module": "@jupyter-widgets/controls"
     }
    },
    "1de407ddd766439b91d95339d8b85b75": {
     "model_module": "@jupyter-widgets/base",
     "model_name": "LayoutModel",
     "model_module_version": "1.2.0",
     "state": {
      "_view_name": "LayoutView",
      "grid_template_rows": null,
      "right": null,
      "justify_content": null,
      "_view_module": "@jupyter-widgets/base",
      "overflow": null,
      "_model_module_version": "1.2.0",
      "_view_count": null,
      "flex_flow": null,
      "width": null,
      "min_width": null,
      "border": null,
      "align_items": null,
      "bottom": null,
      "_model_module": "@jupyter-widgets/base",
      "top": null,
      "grid_column": null,
      "overflow_y": null,
      "overflow_x": null,
      "grid_auto_flow": null,
      "grid_area": null,
      "grid_template_columns": null,
      "flex": "2",
      "_model_name": "LayoutModel",
      "justify_items": null,
      "grid_row": null,
      "max_height": null,
      "align_content": null,
      "visibility": null,
      "align_self": null,
      "height": null,
      "min_height": null,
      "padding": null,
      "grid_auto_rows": null,
      "grid_gap": null,
      "max_width": null,
      "order": null,
      "_view_module_version": "1.2.0",
      "grid_template_areas": null,
      "object_position": null,
      "object_fit": null,
      "grid_auto_columns": null,
      "margin": null,
      "display": null,
      "left": null
     }
    },
    "8714df9700f542458d1e226328db8cbc": {
     "model_module": "@jupyter-widgets/controls",
     "model_name": "DescriptionStyleModel",
     "model_module_version": "1.5.0",
     "state": {
      "_view_name": "StyleView",
      "_model_name": "DescriptionStyleModel",
      "description_width": "",
      "_view_module": "@jupyter-widgets/base",
      "_model_module_version": "1.5.0",
      "_view_count": null,
      "_view_module_version": "1.2.0",
      "_model_module": "@jupyter-widgets/controls"
     }
    },
    "d67f65ab5a2b462a8076e490ef968c39": {
     "model_module": "@jupyter-widgets/base",
     "model_name": "LayoutModel",
     "model_module_version": "1.2.0",
     "state": {
      "_view_name": "LayoutView",
      "grid_template_rows": null,
      "right": null,
      "justify_content": null,
      "_view_module": "@jupyter-widgets/base",
      "overflow": null,
      "_model_module_version": "1.2.0",
      "_view_count": null,
      "flex_flow": null,
      "width": null,
      "min_width": null,
      "border": null,
      "align_items": null,
      "bottom": null,
      "_model_module": "@jupyter-widgets/base",
      "top": null,
      "grid_column": null,
      "overflow_y": null,
      "overflow_x": null,
      "grid_auto_flow": null,
      "grid_area": null,
      "grid_template_columns": null,
      "flex": null,
      "_model_name": "LayoutModel",
      "justify_items": null,
      "grid_row": null,
      "max_height": null,
      "align_content": null,
      "visibility": null,
      "align_self": null,
      "height": null,
      "min_height": null,
      "padding": null,
      "grid_auto_rows": null,
      "grid_gap": null,
      "max_width": null,
      "order": null,
      "_view_module_version": "1.2.0",
      "grid_template_areas": null,
      "object_position": null,
      "object_fit": null,
      "grid_auto_columns": null,
      "margin": null,
      "display": null,
      "left": null
     }
    }
   }
  }
 },
 "cells": [
  {
   "cell_type": "markdown",
   "source": [
    "## Wykorzystane moduły"
   ],
   "metadata": {
    "collapsed": false,
    "pycharm": {
     "name": "#%% md\n"
    }
   }
  },
  {
   "cell_type": "code",
   "execution_count": 2,
   "outputs": [],
   "source": [
    "import pandas as pd\n",
    "import numpy as np\n",
    "import seaborn as sns\n",
    "import sweetviz as sv\n",
    "import matplotlib.pyplot as plt\n",
    "from pandas_profiling import ProfileReport\n",
    "from sklearn.model_selection import train_test_split\n",
    "\n",
    "from data_processing.utils import encode_target, binary_encode, one_hot_encode, split_date"
   ],
   "metadata": {
    "collapsed": false,
    "pycharm": {
     "name": "#%%\n"
    }
   }
  },
  {
   "cell_type": "code",
   "source": [
    "np.random.seed(42)"
   ],
   "metadata": {
    "id": "UA-WkPmaoW7s",
    "pycharm": {
     "is_executing": true
    },
    "executionInfo": {
     "status": "ok",
     "timestamp": 1645963657734,
     "user_tz": -60,
     "elapsed": 15,
     "user": {
      "displayName": "Michał Hetmańczuk",
      "photoUrl": "https://lh3.googleusercontent.com/a-/AOh14Gjl0eVKOppNaOMif1fgMnSdZUS_dARQWIFF0VVr=s64",
      "userId": "04593032524005602763"
     }
    }
   },
   "execution_count": 3,
   "outputs": []
  },
  {
   "cell_type": "markdown",
   "source": [
    "## Załadawanie i wstępny przegląd danych"
   ],
   "metadata": {
    "collapsed": false,
    "pycharm": {
     "name": "#%% md\n"
    }
   }
  },
  {
   "cell_type": "code",
   "source": [
    "dataset = pd.read_csv('data/accepted_2007_to_2018Q4.csv')"
   ],
   "metadata": {
    "colab": {
     "base_uri": "https://localhost:8080/"
    },
    "id": "eD9WbOxsiCx5",
    "outputId": "6c97bf90-6d8e-4e29-b9e1-f9127b9ca760",
    "pycharm": {
     "is_executing": true
    },
    "executionInfo": {
     "status": "ok",
     "timestamp": 1645963724732,
     "user_tz": -60,
     "elapsed": 67010,
     "user": {
      "displayName": "Michał Hetmańczuk",
      "photoUrl": "https://lh3.googleusercontent.com/a-/AOh14Gjl0eVKOppNaOMif1fgMnSdZUS_dARQWIFF0VVr=s64",
      "userId": "04593032524005602763"
     }
    }
   },
   "execution_count": 4,
   "outputs": [
    {
     "output_type": "stream",
     "name": "stderr",
     "text": [
      "/usr/local/lib/python3.7/dist-packages/IPython/core/interactiveshell.py:2718: DtypeWarning: Columns (0,19,49,59,118,129,130,131,134,135,136,139,145,146,147) have mixed types.Specify dtype option on import or set low_memory=False.\n",
      "  interactivity=interactivity, compiler=compiler, result=result)\n"
     ]
    }
   ]
  },
  {
   "cell_type": "code",
   "source": [
    "sum(dataset.loan_status.isna())"
   ],
   "metadata": {
    "colab": {
     "base_uri": "https://localhost:8080/"
    },
    "id": "Ghn5FcFellbA",
    "outputId": "a3e46481-2ae5-4fe2-decd-421749c487ad",
    "pycharm": {
     "is_executing": true
    },
    "executionInfo": {
     "status": "ok",
     "timestamp": 1645963724734,
     "user_tz": -60,
     "elapsed": 20,
     "user": {
      "displayName": "Michał Hetmańczuk",
      "photoUrl": "https://lh3.googleusercontent.com/a-/AOh14Gjl0eVKOppNaOMif1fgMnSdZUS_dARQWIFF0VVr=s64",
      "userId": "04593032524005602763"
     }
    }
   },
   "execution_count": 5,
   "outputs": [
    {
     "output_type": "execute_result",
     "data": {
      "text/plain": [
       "33"
      ]
     },
     "metadata": {},
     "execution_count": 5
    }
   ]
  },
  {
   "cell_type": "code",
   "execution_count": 6,
   "outputs": [],
   "source": [
    "dataset = dataset[~dataset.loan_status.isna()]\n",
    "dataset = dataset[dataset.loan_status != 'Current']"
   ],
   "metadata": {
    "pycharm": {
     "name": "#%%\n"
    },
    "id": "9yhFu-lRZ-gh",
    "executionInfo": {
     "status": "ok",
     "timestamp": 1645963728517,
     "user_tz": -60,
     "elapsed": 3386,
     "user": {
      "displayName": "Michał Hetmańczuk",
      "photoUrl": "https://lh3.googleusercontent.com/a-/AOh14Gjl0eVKOppNaOMif1fgMnSdZUS_dARQWIFF0VVr=s64",
      "userId": "04593032524005602763"
     }
    }
   }
  },
  {
   "cell_type": "code",
   "execution_count": 7,
   "outputs": [
    {
     "output_type": "execute_result",
     "data": {
      "text/plain": [
       "(1382351, 151)"
      ]
     },
     "metadata": {},
     "execution_count": 7
    }
   ],
   "source": [
    "dataset.shape"
   ],
   "metadata": {
    "pycharm": {
     "name": "#%%\n",
     "is_executing": true
    },
    "colab": {
     "base_uri": "https://localhost:8080/"
    },
    "id": "eAotmftPZ-gj",
    "executionInfo": {
     "status": "ok",
     "timestamp": 1645963728518,
     "user_tz": -60,
     "elapsed": 15,
     "user": {
      "displayName": "Michał Hetmańczuk",
      "photoUrl": "https://lh3.googleusercontent.com/a-/AOh14Gjl0eVKOppNaOMif1fgMnSdZUS_dARQWIFF0VVr=s64",
      "userId": "04593032524005602763"
     }
    },
    "outputId": "67e6b494-775b-4509-ce94-a30fdb6e7267"
   }
  },
  {
   "cell_type": "markdown",
   "source": [
    "Kodowanie zmiennej objaśnianej zgodnie z poleceniem:"
   ],
   "metadata": {
    "collapsed": false,
    "pycharm": {
     "name": "#%% md\n"
    }
   }
  },
  {
   "cell_type": "code",
   "source": [
    "dataset = encode_target(dataset, predicate=lambda df: (df.loan_status == 'Fully Paid').astype(int))"
   ],
   "metadata": {
    "id": "v8ziPngDigca",
    "executionInfo": {
     "status": "ok",
     "timestamp": 1645963729341,
     "user_tz": -60,
     "elapsed": 832,
     "user": {
      "displayName": "Michał Hetmańczuk",
      "photoUrl": "https://lh3.googleusercontent.com/a-/AOh14Gjl0eVKOppNaOMif1fgMnSdZUS_dARQWIFF0VVr=s64",
      "userId": "04593032524005602763"
     }
    }
   },
   "execution_count": 8,
   "outputs": []
  },
  {
   "cell_type": "raw",
   "source": [
    "Odłożenie zbioru tesowego celem uniknięcia data snooping bias:"
   ],
   "metadata": {
    "collapsed": false,
    "pycharm": {
     "name": "#%% raw\n"
    }
   }
  },
  {
   "cell_type": "code",
   "source": [
    "dev_data, test_data = train_test_split(dataset, test_size=0.2, shuffle=True, stratify=dataset.target)"
   ],
   "metadata": {
    "id": "he4H-Oufmu5n",
    "executionInfo": {
     "status": "ok",
     "timestamp": 1645963737739,
     "user_tz": -60,
     "elapsed": 8404,
     "user": {
      "displayName": "Michał Hetmańczuk",
      "photoUrl": "https://lh3.googleusercontent.com/a-/AOh14Gjl0eVKOppNaOMif1fgMnSdZUS_dARQWIFF0VVr=s64",
      "userId": "04593032524005602763"
     }
    }
   },
   "execution_count": 9,
   "outputs": []
  },
  {
   "cell_type": "code",
   "execution_count": 10,
   "outputs": [],
   "source": [
    "dev_data.to_pickle('data/dev_dataset.pkl')\n",
    "test_data.to_pickle('data/test_dataset.pkl')"
   ],
   "metadata": {
    "pycharm": {
     "name": "#%%\n"
    },
    "id": "fuYT39bqZ-gm",
    "executionInfo": {
     "status": "ok",
     "timestamp": 1645963753611,
     "user_tz": -60,
     "elapsed": 15890,
     "user": {
      "displayName": "Michał Hetmańczuk",
      "photoUrl": "https://lh3.googleusercontent.com/a-/AOh14Gjl0eVKOppNaOMif1fgMnSdZUS_dARQWIFF0VVr=s64",
      "userId": "04593032524005602763"
     }
    }
   }
  },
  {
   "cell_type": "markdown",
   "source": [
    "Wygenerowano prosty raport celem wstępnego odrzucenia niektórych zmiennych. W szczególności tych zawierających przechylony rozkład (dominacja jednej wartości - w szczegolności 0), zawierających zbyt dużo wartości nan oraz zmiennych kategorycznych o zbyt dużej liczności wartości."
   ],
   "metadata": {
    "collapsed": false,
    "pycharm": {
     "name": "#%% md\n"
    }
   }
  },
  {
   "cell_type": "code",
   "source": [
    "profile = ProfileReport(dev_data, title=\"Pandas Profiling Report\", minimal=True)\n",
    "profile.to_file(\"data_processing/data_reports/profiling_report.html\")"
   ],
   "metadata": {
    "colab": {
     "base_uri": "https://localhost:8080/",
     "height": 144,
     "referenced_widgets": [
      "76e65da26f0846eb8f1ff1f101b77859",
      "6174e61f7d7142f3ad0983e04a60d3c1",
      "7383cb8db42a4a0ab472de7891aec13d",
      "c58cfc04d3f44b199b5517b1c3e5f6f6",
      "d585a51215cc40aba30f227ba58400ff",
      "072bbd03a1f844759bdc713389361f35",
      "33bf1a3abdf14a26970e77a9a3332d15",
      "e28f057391c840fca9847436731cee38",
      "3887fcc61038404f8992e3867c0d6333",
      "ca90853491dc481aaf1a73b53357897d",
      "5c2ff681f2a9441595f26e5a38397b71",
      "03941b5ad54442faa9a0c4f12314fcad",
      "abff8d0a70bc4f4f8e8c67c0bb5545bf",
      "70ee3b158be248239313963efcff7b70",
      "11b64320c0f74d48ac1b7b3d652869c8",
      "2d5563bf9e814945ba5a5a304812db99",
      "a3a09e07e2c64ed784a0b89672be2f51",
      "0029cb9e35884fc495e08cd5c964bc15",
      "eb5e94fbb8f145dda633fa6c425160bc",
      "620255828a894827b97875b6c735ca68",
      "1303106254bc4b57a1480de445b839be",
      "5a8e5c18065946b1b9d342f59be9c55c",
      "0beb8cf1042649e698bda45aef85a9bd",
      "a6789c2a4290445a98c20e10d70cc990",
      "6811e0936e3b42989a7d08d8a587b709",
      "1924eb05bcb84a51ad33d83db1df43bc",
      "c8b23480d1eb4559aebea03912c979cf",
      "00d54fc6e0c945709f49ac74adf80fdd",
      "7656d31c6b7c4df295ff7270a129a335",
      "6244cdd51d7f4aff831fb910cb3e4da4",
      "ffff2649d3ac4b08acccfda48460b15e",
      "586caeadd9fc4402949c67bf0e63f572",
      "bb6a085eeaf8453e8ab6e1e016b60e81",
      "2b10b009a89f445aaee6fbfc1ac2bb30",
      "740e8c675738481db8782d54be7488a0",
      "15500dac251b412f881e98a969a65c67",
      "62fcb3f9778640e1a57d7393b55d231a",
      "fabe063f1e9c479e8ff97838e2c280b2",
      "9e4479452f944a0097bceb7f34fe630d",
      "c7bf6fe3a49941c6a0f50a573329ddd5",
      "f862760e6f354a44be004146995834ed",
      "799869c354974bda803192bd94e4f600",
      "343e5f17ca484f86b65b751d32f05269",
      "47851ffa981341e4bbb8582c78f1d391"
     ]
    },
    "id": "Z6Y5R5cMkrKo",
    "outputId": "a50bb521-eb35-4044-fcfe-d0b9e631f9d3",
    "executionInfo": {
     "status": "ok",
     "timestamp": 1645963924726,
     "user_tz": -60,
     "elapsed": 171135,
     "user": {
      "displayName": "Michał Hetmańczuk",
      "photoUrl": "https://lh3.googleusercontent.com/a-/AOh14Gjl0eVKOppNaOMif1fgMnSdZUS_dARQWIFF0VVr=s64",
      "userId": "04593032524005602763"
     }
    }
   },
   "execution_count": 11,
   "outputs": [
    {
     "output_type": "display_data",
     "data": {
      "application/vnd.jupyter.widget-view+json": {
       "model_id": "76e65da26f0846eb8f1ff1f101b77859",
       "version_minor": 0,
       "version_major": 2
      },
      "text/plain": [
       "Summarize dataset:   0%|          | 0/162 [00:00<?, ?it/s]"
      ]
     },
     "metadata": {}
    },
    {
     "output_type": "display_data",
     "data": {
      "application/vnd.jupyter.widget-view+json": {
       "model_id": "03941b5ad54442faa9a0c4f12314fcad",
       "version_minor": 0,
       "version_major": 2
      },
      "text/plain": [
       "Generate report structure:   0%|          | 0/1 [00:00<?, ?it/s]"
      ]
     },
     "metadata": {}
    },
    {
     "output_type": "display_data",
     "data": {
      "application/vnd.jupyter.widget-view+json": {
       "model_id": "0beb8cf1042649e698bda45aef85a9bd",
       "version_minor": 0,
       "version_major": 2
      },
      "text/plain": [
       "Render HTML:   0%|          | 0/1 [00:00<?, ?it/s]"
      ]
     },
     "metadata": {}
    },
    {
     "output_type": "display_data",
     "data": {
      "application/vnd.jupyter.widget-view+json": {
       "model_id": "2b10b009a89f445aaee6fbfc1ac2bb30",
       "version_minor": 0,
       "version_major": 2
      },
      "text/plain": [
       "Export report to file:   0%|          | 0/1 [00:00<?, ?it/s]"
      ]
     },
     "metadata": {}
    }
   ]
  },
  {
   "cell_type": "code",
   "source": [
    "dev_data.isna().sum().hist()\n",
    "plt.show()"
   ],
   "metadata": {
    "colab": {
     "base_uri": "https://localhost:8080/",
     "height": 363
    },
    "id": "PYHa9tJwUaSL",
    "outputId": "2104edea-358c-41dd-bb01-3571946a4921",
    "executionInfo": {
     "status": "ok",
     "timestamp": 1645963928195,
     "user_tz": -60,
     "elapsed": 3493,
     "user": {
      "displayName": "Michał Hetmańczuk",
      "photoUrl": "https://lh3.googleusercontent.com/a-/AOh14Gjl0eVKOppNaOMif1fgMnSdZUS_dARQWIFF0VVr=s64",
      "userId": "04593032524005602763"
     }
    }
   },
   "execution_count": 12,
   "outputs": [
    {
     "output_type": "display_data",
     "data": {
      "image/png": "[encoded data removed]",
      "text/plain": [
       "<Figure size 576x396 with 1 Axes>"
      ]
     },
     "metadata": {}
    }
   ]
  },
  {
   "cell_type": "markdown",
   "source": [
    "W ramach realizowanego zadania trudno będzie obsłużyć brakujące wartości bez dogłębnego zrozumienia znaczenia atrybutu, zwłaszcze jeśli tych wartości jest zdecydowana większość - usunięto kolumny mające więcej niż 10% brakujących wartości."
   ],
   "metadata": {
    "collapsed": false,
    "pycharm": {
     "name": "#%% md\n"
    }
   }
  },
  {
   "cell_type": "code",
   "source": [
    "dev_data = dev_data.dropna(axis=1, thresh=int(0.9 * len(dev_data)))"
   ],
   "metadata": {
    "id": "pYTcW2DTTkdc",
    "executionInfo": {
     "status": "ok",
     "timestamp": 1645963931989,
     "user_tz": -60,
     "elapsed": 3800,
     "user": {
      "displayName": "Michał Hetmańczuk",
      "photoUrl": "https://lh3.googleusercontent.com/a-/AOh14Gjl0eVKOppNaOMif1fgMnSdZUS_dARQWIFF0VVr=s64",
      "userId": "04593032524005602763"
     }
    }
   },
   "execution_count": 13,
   "outputs": []
  },
  {
   "cell_type": "markdown",
   "source": [
    "dev_data.shape"
   ],
   "metadata": {
    "colab": {
     "base_uri": "https://localhost:8080/"
    },
    "id": "IQga337_WIbE",
    "outputId": "e1edeab3-e0f2-4f5d-9d4b-b70c4ebd071c",
    "executionInfo": {
     "status": "ok",
     "timestamp": 1645963931991,
     "user_tz": -60,
     "elapsed": 19,
     "user": {
      "displayName": "Michał Hetmańczuk",
      "photoUrl": "https://lh3.googleusercontent.com/a-/AOh14Gjl0eVKOppNaOMif1fgMnSdZUS_dARQWIFF0VVr=s64",
      "userId": "04593032524005602763"
     }
    },
    "pycharm": {
     "name": "#%% md\n"
    }
   }
  },
  {
   "cell_type": "markdown",
   "source": [
    "Usunięto nieprzetworzoną zmienną objaśnianą oraz atrybuty ocenione jako zbędne na potrzeby modelowania (string, zbyt dużo możliwych wartości dla zmiennych kategorycznych, zbyt duża dominacja obserwacji dla jednej wartości zmiennej kategorycznej etc.)"
   ],
   "metadata": {
    "collapsed": false,
    "pycharm": {
     "name": "#%% md\n"
    }
   }
  },
  {
   "cell_type": "code",
   "source": [
    "to_drop = [\n",
    "           'loan_status', 'id', 'emp_title', 'pymnt_plan', 'title', 'zip_code', 'policy_code', 'url'\n",
    "]\n",
    "dev_data = dev_data.drop(columns=to_drop)"
   ],
   "metadata": {
    "id": "wLNLDj0PJnwX",
    "executionInfo": {
     "status": "ok",
     "timestamp": 1645963932219,
     "user_tz": -60,
     "elapsed": 242,
     "user": {
      "displayName": "Michał Hetmańczuk",
      "photoUrl": "https://lh3.googleusercontent.com/a-/AOh14Gjl0eVKOppNaOMif1fgMnSdZUS_dARQWIFF0VVr=s64",
      "userId": "04593032524005602763"
     }
    }
   },
   "execution_count": 15,
   "outputs": []
  },
  {
   "cell_type": "raw",
   "source": [
    "Dokonano bardzo płytniego (na potrzeby zadania) przeglądu opisów pozostałych kolumn zawierających znaczą liczbę wartości nan oraz usunięto te uznane za zbędne"
   ],
   "metadata": {
    "collapsed": false,
    "pycharm": {
     "name": "#%% raw\n"
    }
   }
  },
  {
   "cell_type": "code",
   "source": [
    "dev_data.isna().sum()"
   ],
   "metadata": {
    "colab": {
     "base_uri": "https://localhost:8080/"
    },
    "id": "0djyYg-wYVzH",
    "outputId": "31e4655e-4421-4fce-804b-d8c09b617d86",
    "executionInfo": {
     "status": "ok",
     "timestamp": 1645963934037,
     "user_tz": -60,
     "elapsed": 1821,
     "user": {
      "displayName": "Michał Hetmańczuk",
      "photoUrl": "https://lh3.googleusercontent.com/a-/AOh14Gjl0eVKOppNaOMif1fgMnSdZUS_dARQWIFF0VVr=s64",
      "userId": "04593032524005602763"
     }
    }
   },
   "execution_count": 16,
   "outputs": [
    {
     "output_type": "execute_result",
     "data": {
      "text/plain": [
       "loan_amnt                         0\n",
       "funded_amnt                       0\n",
       "funded_amnt_inv                   0\n",
       "term                              0\n",
       "int_rate                          0\n",
       "                              ...  \n",
       "total_il_high_credit_limit    56225\n",
       "hardship_flag                     0\n",
       "disbursement_method               0\n",
       "debt_settlement_flag              0\n",
       "target                            0\n",
       "Length: 85, dtype: int64"
      ]
     },
     "metadata": {},
     "execution_count": 16
    }
   ]
  },
  {
   "cell_type": "code",
   "source": [
    "na_columns = dev_data.isna().sum()\n",
    "na_columns[na_columns > 24]"
   ],
   "metadata": {
    "colab": {
     "base_uri": "https://localhost:8080/"
    },
    "id": "PubHU9tXZSfI",
    "outputId": "d2286c4a-2202-4403-b4df-b7f3710e6cde",
    "executionInfo": {
     "status": "ok",
     "timestamp": 1645963935020,
     "user_tz": -60,
     "elapsed": 988,
     "user": {
      "displayName": "Michał Hetmańczuk",
      "photoUrl": "https://lh3.googleusercontent.com/a-/AOh14Gjl0eVKOppNaOMif1fgMnSdZUS_dARQWIFF0VVr=s64",
      "userId": "04593032524005602763"
     }
    }
   },
   "execution_count": 17,
   "outputs": [
    {
     "output_type": "execute_result",
     "data": {
      "text/plain": [
       "emp_length                    65376\n",
       "dti                             324\n",
       "revol_util                      750\n",
       "last_pymnt_d                   1960\n",
       "last_credit_pull_d               39\n",
       "collections_12_mths_ex_med      116\n",
       "tot_coll_amt                  56225\n",
       "tot_cur_bal                   56225\n",
       "total_rev_hi_lim              56225\n",
       "acc_open_past_24mths          39985\n",
       "avg_cur_bal                   56243\n",
       "bc_open_to_buy                51462\n",
       "bc_util                       52101\n",
       "chargeoff_within_12_mths        116\n",
       "mo_sin_old_il_acct            87697\n",
       "mo_sin_old_rev_tl_op          56226\n",
       "mo_sin_rcnt_rev_tl_op         56226\n",
       "mo_sin_rcnt_tl                56225\n",
       "mort_acc                      39985\n",
       "mths_since_recent_bc          50692\n",
       "num_accts_ever_120_pd         56225\n",
       "num_actv_bc_tl                56225\n",
       "num_actv_rev_tl               56225\n",
       "num_bc_sats                   46877\n",
       "num_bc_tl                     56225\n",
       "num_il_tl                     56225\n",
       "num_op_rev_tl                 56225\n",
       "num_rev_accts                 56226\n",
       "num_rev_tl_bal_gt_0           56225\n",
       "num_sats                      46877\n",
       "num_tl_120dpd_2m              97752\n",
       "num_tl_30dpd                  56225\n",
       "num_tl_90g_dpd_24m            56225\n",
       "num_tl_op_past_12m            56225\n",
       "pct_tl_nvr_dlq                56355\n",
       "percent_bc_gt_75              51789\n",
       "pub_rec_bankruptcies           1096\n",
       "tax_liens                        87\n",
       "tot_hi_cred_lim               56225\n",
       "total_bal_ex_mort             39985\n",
       "total_bc_limit                39985\n",
       "total_il_high_credit_limit    56225\n",
       "dtype: int64"
      ]
     },
     "metadata": {},
     "execution_count": 17
    }
   ]
  },
  {
   "cell_type": "code",
   "source": [
    "to_drop = [\n",
    "           'earliest_cr_line', \n",
    "           'pub_rec', \n",
    "           'revol_util', \n",
    "           'bc_open_to_buy', \n",
    "           'mo_sin_old_il_acct', \n",
    "           'mo_sin_old_rev_tl_op', \n",
    "           'mo_sin_rcnt_rev_tl_op', \n",
    "           'mo_sin_rcnt_tl',\n",
    "           'mths_since_recent_bc',\n",
    "           'num_actv_bc_tl',\n",
    "           'num_actv_rev_tl',\n",
    "           'num_bc_sats',\n",
    "           'num_bc_tl',\n",
    "           'num_il_tl',\n",
    "           'num_op_rev_tl',\n",
    "           'num_rev_accts',\n",
    "           'num_rev_tl_bal_gt_0',\n",
    "           'num_sats',\n",
    "           'num_tl_120dpd_2m',\n",
    "           'num_tl_30dpd',\n",
    "           'num_tl_90g_dpd_24m',\n",
    "           'num_tl_op_past_12m',\n",
    "           'pub_rec_bankruptcies',\n",
    "           'total_bal_ex_mort',\n",
    "           'total_bc_limit',\n",
    "           'total_rec_late_fee'\n",
    "           ]\n",
    "dev_data = dev_data.drop(columns=to_drop)"
   ],
   "metadata": {
    "id": "BlQX5nUBZmzn",
    "executionInfo": {
     "status": "ok",
     "timestamp": 1645963935473,
     "user_tz": -60,
     "elapsed": 458,
     "user": {
      "displayName": "Michał Hetmańczuk",
      "photoUrl": "https://lh3.googleusercontent.com/a-/AOh14Gjl0eVKOppNaOMif1fgMnSdZUS_dARQWIFF0VVr=s64",
      "userId": "04593032524005602763"
     }
    }
   },
   "execution_count": 18,
   "outputs": []
  },
  {
   "cell_type": "code",
   "source": [
    "date_features = ['issue_d', 'last_pymnt_d', 'last_credit_pull_d']\n",
    "\n",
    "dev_data = split_date(dev_data, date_features, '-', ['month', 'year'])"
   ],
   "metadata": {
    "id": "QRwdsT5-7E9j",
    "executionInfo": {
     "status": "ok",
     "timestamp": 1645963950741,
     "user_tz": -60,
     "elapsed": 15271,
     "user": {
      "displayName": "Michał Hetmańczuk",
      "photoUrl": "https://lh3.googleusercontent.com/a-/AOh14Gjl0eVKOppNaOMif1fgMnSdZUS_dARQWIFF0VVr=s64",
      "userId": "04593032524005602763"
     }
    }
   },
   "execution_count": 19,
   "outputs": []
  },
  {
   "cell_type": "code",
   "source": [
    "dev_data"
   ],
   "metadata": {
    "colab": {
     "base_uri": "https://localhost:8080/",
     "height": 637
    },
    "id": "ckowmJr--vBI",
    "outputId": "0a71a67c-c1c8-4474-feb7-de7238c863af",
    "executionInfo": {
     "status": "ok",
     "timestamp": 1645963950742,
     "user_tz": -60,
     "elapsed": 20,
     "user": {
      "displayName": "Michał Hetmańczuk",
      "photoUrl": "https://lh3.googleusercontent.com/a-/AOh14Gjl0eVKOppNaOMif1fgMnSdZUS_dARQWIFF0VVr=s64",
      "userId": "04593032524005602763"
     }
    }
   },
   "execution_count": 20,
   "outputs": [
    {
     "output_type": "execute_result",
     "data": {
      "text/html": [
       "\n",
       "  <div id=\"df-6a68b379-3f4a-420d-aebe-63b71b5ba8d1\">\n",
       "    <div class=\"colab-df-container\">\n",
       "      <div>\n",
       "<style scoped>\n",
       "    .dataframe tbody tr th:only-of-type {\n",
       "        vertical-align: middle;\n",
       "    }\n",
       "\n",
       "    .dataframe tbody tr th {\n",
       "        vertical-align: top;\n",
       "    }\n",
       "\n",
       "    .dataframe thead th {\n",
       "        text-align: right;\n",
       "    }\n",
       "</style>\n",
       "<table border=\"1\" class=\"dataframe\">\n",
       "  <thead>\n",
       "    <tr style=\"text-align: right;\">\n",
       "      <th></th>\n",
       "      <th>loan_amnt</th>\n",
       "      <th>funded_amnt</th>\n",
       "      <th>funded_amnt_inv</th>\n",
       "      <th>term</th>\n",
       "      <th>int_rate</th>\n",
       "      <th>installment</th>\n",
       "      <th>grade</th>\n",
       "      <th>sub_grade</th>\n",
       "      <th>emp_length</th>\n",
       "      <th>home_ownership</th>\n",
       "      <th>annual_inc</th>\n",
       "      <th>verification_status</th>\n",
       "      <th>purpose</th>\n",
       "      <th>addr_state</th>\n",
       "      <th>dti</th>\n",
       "      <th>delinq_2yrs</th>\n",
       "      <th>fico_range_low</th>\n",
       "      <th>fico_range_high</th>\n",
       "      <th>inq_last_6mths</th>\n",
       "      <th>open_acc</th>\n",
       "      <th>revol_bal</th>\n",
       "      <th>total_acc</th>\n",
       "      <th>initial_list_status</th>\n",
       "      <th>out_prncp</th>\n",
       "      <th>out_prncp_inv</th>\n",
       "      <th>total_pymnt</th>\n",
       "      <th>total_pymnt_inv</th>\n",
       "      <th>total_rec_prncp</th>\n",
       "      <th>total_rec_int</th>\n",
       "      <th>recoveries</th>\n",
       "      <th>collection_recovery_fee</th>\n",
       "      <th>last_pymnt_amnt</th>\n",
       "      <th>last_fico_range_high</th>\n",
       "      <th>last_fico_range_low</th>\n",
       "      <th>collections_12_mths_ex_med</th>\n",
       "      <th>application_type</th>\n",
       "      <th>acc_now_delinq</th>\n",
       "      <th>tot_coll_amt</th>\n",
       "      <th>tot_cur_bal</th>\n",
       "      <th>total_rev_hi_lim</th>\n",
       "      <th>acc_open_past_24mths</th>\n",
       "      <th>avg_cur_bal</th>\n",
       "      <th>bc_util</th>\n",
       "      <th>chargeoff_within_12_mths</th>\n",
       "      <th>delinq_amnt</th>\n",
       "      <th>mort_acc</th>\n",
       "      <th>num_accts_ever_120_pd</th>\n",
       "      <th>pct_tl_nvr_dlq</th>\n",
       "      <th>percent_bc_gt_75</th>\n",
       "      <th>tax_liens</th>\n",
       "      <th>tot_hi_cred_lim</th>\n",
       "      <th>total_il_high_credit_limit</th>\n",
       "      <th>hardship_flag</th>\n",
       "      <th>disbursement_method</th>\n",
       "      <th>debt_settlement_flag</th>\n",
       "      <th>target</th>\n",
       "      <th>issue_dmonth</th>\n",
       "      <th>issue_dyear</th>\n",
       "      <th>last_pymnt_dmonth</th>\n",
       "      <th>last_pymnt_dyear</th>\n",
       "      <th>last_credit_pull_dmonth</th>\n",
       "      <th>last_credit_pull_dyear</th>\n",
       "    </tr>\n",
       "  </thead>\n",
       "  <tbody>\n",
       "    <tr>\n",
       "      <th>93313</th>\n",
       "      <td>12000.0</td>\n",
       "      <td>12000.0</td>\n",
       "      <td>12000.0</td>\n",
       "      <td>36 months</td>\n",
       "      <td>8.18</td>\n",
       "      <td>377.04</td>\n",
       "      <td>B</td>\n",
       "      <td>B1</td>\n",
       "      <td>8 years</td>\n",
       "      <td>MORTGAGE</td>\n",
       "      <td>36000.0</td>\n",
       "      <td>Not Verified</td>\n",
       "      <td>credit_card</td>\n",
       "      <td>IL</td>\n",
       "      <td>26.80</td>\n",
       "      <td>0.0</td>\n",
       "      <td>715.0</td>\n",
       "      <td>719.0</td>\n",
       "      <td>2.0</td>\n",
       "      <td>15.0</td>\n",
       "      <td>8356.0</td>\n",
       "      <td>24.0</td>\n",
       "      <td>w</td>\n",
       "      <td>0.0</td>\n",
       "      <td>0.0</td>\n",
       "      <td>13575.757156</td>\n",
       "      <td>13575.76</td>\n",
       "      <td>12000.0</td>\n",
       "      <td>1575.76</td>\n",
       "      <td>0.0</td>\n",
       "      <td>0.0</td>\n",
       "      <td>326.68</td>\n",
       "      <td>659.0</td>\n",
       "      <td>655.0</td>\n",
       "      <td>0.0</td>\n",
       "      <td>Individual</td>\n",
       "      <td>0.0</td>\n",
       "      <td>0.0</td>\n",
       "      <td>28673.0</td>\n",
       "      <td>35900.0</td>\n",
       "      <td>4.0</td>\n",
       "      <td>2048.0</td>\n",
       "      <td>29.9</td>\n",
       "      <td>0.0</td>\n",
       "      <td>0.0</td>\n",
       "      <td>0.0</td>\n",
       "      <td>0.0</td>\n",
       "      <td>95.8</td>\n",
       "      <td>14.3</td>\n",
       "      <td>0.0</td>\n",
       "      <td>59900.0</td>\n",
       "      <td>24000.0</td>\n",
       "      <td>N</td>\n",
       "      <td>Cash</td>\n",
       "      <td>N</td>\n",
       "      <td>1</td>\n",
       "      <td>Oct</td>\n",
       "      <td>2015</td>\n",
       "      <td>Oct</td>\n",
       "      <td>2018</td>\n",
       "      <td>Oct</td>\n",
       "      <td>2018</td>\n",
       "    </tr>\n",
       "    <tr>\n",
       "      <th>644892</th>\n",
       "      <td>14000.0</td>\n",
       "      <td>14000.0</td>\n",
       "      <td>14000.0</td>\n",
       "      <td>36 months</td>\n",
       "      <td>5.32</td>\n",
       "      <td>421.61</td>\n",
       "      <td>A</td>\n",
       "      <td>A1</td>\n",
       "      <td>10+ years</td>\n",
       "      <td>MORTGAGE</td>\n",
       "      <td>61000.0</td>\n",
       "      <td>Not Verified</td>\n",
       "      <td>small_business</td>\n",
       "      <td>KS</td>\n",
       "      <td>16.86</td>\n",
       "      <td>0.0</td>\n",
       "      <td>790.0</td>\n",
       "      <td>794.0</td>\n",
       "      <td>0.0</td>\n",
       "      <td>19.0</td>\n",
       "      <td>10064.0</td>\n",
       "      <td>30.0</td>\n",
       "      <td>w</td>\n",
       "      <td>0.0</td>\n",
       "      <td>0.0</td>\n",
       "      <td>14689.090727</td>\n",
       "      <td>14689.09</td>\n",
       "      <td>14000.0</td>\n",
       "      <td>689.09</td>\n",
       "      <td>0.0</td>\n",
       "      <td>0.0</td>\n",
       "      <td>10028.62</td>\n",
       "      <td>749.0</td>\n",
       "      <td>745.0</td>\n",
       "      <td>0.0</td>\n",
       "      <td>Individual</td>\n",
       "      <td>0.0</td>\n",
       "      <td>0.0</td>\n",
       "      <td>98208.0</td>\n",
       "      <td>103800.0</td>\n",
       "      <td>5.0</td>\n",
       "      <td>5169.0</td>\n",
       "      <td>10.6</td>\n",
       "      <td>0.0</td>\n",
       "      <td>0.0</td>\n",
       "      <td>2.0</td>\n",
       "      <td>0.0</td>\n",
       "      <td>100.0</td>\n",
       "      <td>0.0</td>\n",
       "      <td>0.0</td>\n",
       "      <td>201039.0</td>\n",
       "      <td>33999.0</td>\n",
       "      <td>N</td>\n",
       "      <td>Cash</td>\n",
       "      <td>N</td>\n",
       "      <td>1</td>\n",
       "      <td>Jul</td>\n",
       "      <td>2017</td>\n",
       "      <td>Jul</td>\n",
       "      <td>2018</td>\n",
       "      <td>Sep</td>\n",
       "      <td>2018</td>\n",
       "    </tr>\n",
       "    <tr>\n",
       "      <th>682290</th>\n",
       "      <td>4500.0</td>\n",
       "      <td>4500.0</td>\n",
       "      <td>4500.0</td>\n",
       "      <td>36 months</td>\n",
       "      <td>11.99</td>\n",
       "      <td>149.45</td>\n",
       "      <td>C</td>\n",
       "      <td>C1</td>\n",
       "      <td>&lt; 1 year</td>\n",
       "      <td>RENT</td>\n",
       "      <td>35000.0</td>\n",
       "      <td>Source Verified</td>\n",
       "      <td>debt_consolidation</td>\n",
       "      <td>IN</td>\n",
       "      <td>19.72</td>\n",
       "      <td>0.0</td>\n",
       "      <td>685.0</td>\n",
       "      <td>689.0</td>\n",
       "      <td>1.0</td>\n",
       "      <td>8.0</td>\n",
       "      <td>3281.0</td>\n",
       "      <td>28.0</td>\n",
       "      <td>f</td>\n",
       "      <td>0.0</td>\n",
       "      <td>0.0</td>\n",
       "      <td>5017.039275</td>\n",
       "      <td>5017.04</td>\n",
       "      <td>4500.0</td>\n",
       "      <td>517.04</td>\n",
       "      <td>0.0</td>\n",
       "      <td>0.0</td>\n",
       "      <td>3224.94</td>\n",
       "      <td>709.0</td>\n",
       "      <td>705.0</td>\n",
       "      <td>0.0</td>\n",
       "      <td>Individual</td>\n",
       "      <td>0.0</td>\n",
       "      <td>251.0</td>\n",
       "      <td>90850.0</td>\n",
       "      <td>10400.0</td>\n",
       "      <td>8.0</td>\n",
       "      <td>11356.0</td>\n",
       "      <td>41.5</td>\n",
       "      <td>0.0</td>\n",
       "      <td>0.0</td>\n",
       "      <td>0.0</td>\n",
       "      <td>0.0</td>\n",
       "      <td>88.9</td>\n",
       "      <td>33.3</td>\n",
       "      <td>0.0</td>\n",
       "      <td>105019.0</td>\n",
       "      <td>94619.0</td>\n",
       "      <td>N</td>\n",
       "      <td>Cash</td>\n",
       "      <td>N</td>\n",
       "      <td>1</td>\n",
       "      <td>Jun</td>\n",
       "      <td>2016</td>\n",
       "      <td>Jul</td>\n",
       "      <td>2017</td>\n",
       "      <td>Jan</td>\n",
       "      <td>2019</td>\n",
       "    </tr>\n",
       "    <tr>\n",
       "      <th>1778326</th>\n",
       "      <td>5400.0</td>\n",
       "      <td>5400.0</td>\n",
       "      <td>5400.0</td>\n",
       "      <td>36 months</td>\n",
       "      <td>7.90</td>\n",
       "      <td>168.97</td>\n",
       "      <td>A</td>\n",
       "      <td>A4</td>\n",
       "      <td>2 years</td>\n",
       "      <td>RENT</td>\n",
       "      <td>57783.0</td>\n",
       "      <td>Source Verified</td>\n",
       "      <td>debt_consolidation</td>\n",
       "      <td>CA</td>\n",
       "      <td>15.74</td>\n",
       "      <td>0.0</td>\n",
       "      <td>720.0</td>\n",
       "      <td>724.0</td>\n",
       "      <td>0.0</td>\n",
       "      <td>10.0</td>\n",
       "      <td>12112.0</td>\n",
       "      <td>19.0</td>\n",
       "      <td>w</td>\n",
       "      <td>0.0</td>\n",
       "      <td>0.0</td>\n",
       "      <td>6046.230000</td>\n",
       "      <td>6046.23</td>\n",
       "      <td>5400.0</td>\n",
       "      <td>646.23</td>\n",
       "      <td>0.0</td>\n",
       "      <td>0.0</td>\n",
       "      <td>1484.04</td>\n",
       "      <td>774.0</td>\n",
       "      <td>770.0</td>\n",
       "      <td>0.0</td>\n",
       "      <td>Individual</td>\n",
       "      <td>0.0</td>\n",
       "      <td>0.0</td>\n",
       "      <td>25004.0</td>\n",
       "      <td>16400.0</td>\n",
       "      <td>1.0</td>\n",
       "      <td>2500.0</td>\n",
       "      <td>83.9</td>\n",
       "      <td>0.0</td>\n",
       "      <td>0.0</td>\n",
       "      <td>0.0</td>\n",
       "      <td>0.0</td>\n",
       "      <td>100.0</td>\n",
       "      <td>66.7</td>\n",
       "      <td>0.0</td>\n",
       "      <td>48658.0</td>\n",
       "      <td>32258.0</td>\n",
       "      <td>N</td>\n",
       "      <td>Cash</td>\n",
       "      <td>N</td>\n",
       "      <td>1</td>\n",
       "      <td>Nov</td>\n",
       "      <td>2013</td>\n",
       "      <td>Mar</td>\n",
       "      <td>2016</td>\n",
       "      <td>Mar</td>\n",
       "      <td>2016</td>\n",
       "    </tr>\n",
       "    <tr>\n",
       "      <th>1994376</th>\n",
       "      <td>10000.0</td>\n",
       "      <td>10000.0</td>\n",
       "      <td>10000.0</td>\n",
       "      <td>60 months</td>\n",
       "      <td>12.79</td>\n",
       "      <td>226.46</td>\n",
       "      <td>C</td>\n",
       "      <td>C1</td>\n",
       "      <td>&lt; 1 year</td>\n",
       "      <td>MORTGAGE</td>\n",
       "      <td>34000.0</td>\n",
       "      <td>Source Verified</td>\n",
       "      <td>credit_card</td>\n",
       "      <td>NC</td>\n",
       "      <td>6.81</td>\n",
       "      <td>0.0</td>\n",
       "      <td>675.0</td>\n",
       "      <td>679.0</td>\n",
       "      <td>0.0</td>\n",
       "      <td>16.0</td>\n",
       "      <td>7430.0</td>\n",
       "      <td>26.0</td>\n",
       "      <td>w</td>\n",
       "      <td>0.0</td>\n",
       "      <td>0.0</td>\n",
       "      <td>12174.601017</td>\n",
       "      <td>12174.60</td>\n",
       "      <td>10000.0</td>\n",
       "      <td>2174.60</td>\n",
       "      <td>0.0</td>\n",
       "      <td>0.0</td>\n",
       "      <td>7181.83</td>\n",
       "      <td>714.0</td>\n",
       "      <td>710.0</td>\n",
       "      <td>0.0</td>\n",
       "      <td>Individual</td>\n",
       "      <td>0.0</td>\n",
       "      <td>2080.0</td>\n",
       "      <td>59520.0</td>\n",
       "      <td>29800.0</td>\n",
       "      <td>5.0</td>\n",
       "      <td>3720.0</td>\n",
       "      <td>33.9</td>\n",
       "      <td>0.0</td>\n",
       "      <td>0.0</td>\n",
       "      <td>2.0</td>\n",
       "      <td>0.0</td>\n",
       "      <td>100.0</td>\n",
       "      <td>0.0</td>\n",
       "      <td>0.0</td>\n",
       "      <td>68147.0</td>\n",
       "      <td>38347.0</td>\n",
       "      <td>N</td>\n",
       "      <td>Cash</td>\n",
       "      <td>N</td>\n",
       "      <td>1</td>\n",
       "      <td>Aug</td>\n",
       "      <td>2016</td>\n",
       "      <td>Jul</td>\n",
       "      <td>2018</td>\n",
       "      <td>Aug</td>\n",
       "      <td>2018</td>\n",
       "    </tr>\n",
       "    <tr>\n",
       "      <th>...</th>\n",
       "      <td>...</td>\n",
       "      <td>...</td>\n",
       "      <td>...</td>\n",
       "      <td>...</td>\n",
       "      <td>...</td>\n",
       "      <td>...</td>\n",
       "      <td>...</td>\n",
       "      <td>...</td>\n",
       "      <td>...</td>\n",
       "      <td>...</td>\n",
       "      <td>...</td>\n",
       "      <td>...</td>\n",
       "      <td>...</td>\n",
       "      <td>...</td>\n",
       "      <td>...</td>\n",
       "      <td>...</td>\n",
       "      <td>...</td>\n",
       "      <td>...</td>\n",
       "      <td>...</td>\n",
       "      <td>...</td>\n",
       "      <td>...</td>\n",
       "      <td>...</td>\n",
       "      <td>...</td>\n",
       "      <td>...</td>\n",
       "      <td>...</td>\n",
       "      <td>...</td>\n",
       "      <td>...</td>\n",
       "      <td>...</td>\n",
       "      <td>...</td>\n",
       "      <td>...</td>\n",
       "      <td>...</td>\n",
       "      <td>...</td>\n",
       "      <td>...</td>\n",
       "      <td>...</td>\n",
       "      <td>...</td>\n",
       "      <td>...</td>\n",
       "      <td>...</td>\n",
       "      <td>...</td>\n",
       "      <td>...</td>\n",
       "      <td>...</td>\n",
       "      <td>...</td>\n",
       "      <td>...</td>\n",
       "      <td>...</td>\n",
       "      <td>...</td>\n",
       "      <td>...</td>\n",
       "      <td>...</td>\n",
       "      <td>...</td>\n",
       "      <td>...</td>\n",
       "      <td>...</td>\n",
       "      <td>...</td>\n",
       "      <td>...</td>\n",
       "      <td>...</td>\n",
       "      <td>...</td>\n",
       "      <td>...</td>\n",
       "      <td>...</td>\n",
       "      <td>...</td>\n",
       "      <td>...</td>\n",
       "      <td>...</td>\n",
       "      <td>...</td>\n",
       "      <td>...</td>\n",
       "      <td>...</td>\n",
       "      <td>...</td>\n",
       "    </tr>\n",
       "    <tr>\n",
       "      <th>149660</th>\n",
       "      <td>7000.0</td>\n",
       "      <td>7000.0</td>\n",
       "      <td>7000.0</td>\n",
       "      <td>36 months</td>\n",
       "      <td>15.61</td>\n",
       "      <td>244.76</td>\n",
       "      <td>D</td>\n",
       "      <td>D1</td>\n",
       "      <td>10+ years</td>\n",
       "      <td>OWN</td>\n",
       "      <td>20000.0</td>\n",
       "      <td>Verified</td>\n",
       "      <td>credit_card</td>\n",
       "      <td>NY</td>\n",
       "      <td>20.47</td>\n",
       "      <td>0.0</td>\n",
       "      <td>675.0</td>\n",
       "      <td>679.0</td>\n",
       "      <td>2.0</td>\n",
       "      <td>9.0</td>\n",
       "      <td>6674.0</td>\n",
       "      <td>11.0</td>\n",
       "      <td>w</td>\n",
       "      <td>0.0</td>\n",
       "      <td>0.0</td>\n",
       "      <td>8798.926211</td>\n",
       "      <td>8798.93</td>\n",
       "      <td>7000.0</td>\n",
       "      <td>1798.93</td>\n",
       "      <td>0.0</td>\n",
       "      <td>0.0</td>\n",
       "      <td>244.47</td>\n",
       "      <td>679.0</td>\n",
       "      <td>675.0</td>\n",
       "      <td>0.0</td>\n",
       "      <td>Individual</td>\n",
       "      <td>0.0</td>\n",
       "      <td>225.0</td>\n",
       "      <td>6674.0</td>\n",
       "      <td>15300.0</td>\n",
       "      <td>4.0</td>\n",
       "      <td>742.0</td>\n",
       "      <td>81.7</td>\n",
       "      <td>0.0</td>\n",
       "      <td>0.0</td>\n",
       "      <td>1.0</td>\n",
       "      <td>1.0</td>\n",
       "      <td>90.9</td>\n",
       "      <td>66.7</td>\n",
       "      <td>0.0</td>\n",
       "      <td>15300.0</td>\n",
       "      <td>0.0</td>\n",
       "      <td>N</td>\n",
       "      <td>Cash</td>\n",
       "      <td>N</td>\n",
       "      <td>1</td>\n",
       "      <td>Sep</td>\n",
       "      <td>2015</td>\n",
       "      <td>Sep</td>\n",
       "      <td>2018</td>\n",
       "      <td>Sep</td>\n",
       "      <td>2018</td>\n",
       "    </tr>\n",
       "    <tr>\n",
       "      <th>692722</th>\n",
       "      <td>19200.0</td>\n",
       "      <td>19200.0</td>\n",
       "      <td>19200.0</td>\n",
       "      <td>60 months</td>\n",
       "      <td>8.39</td>\n",
       "      <td>392.91</td>\n",
       "      <td>B</td>\n",
       "      <td>B1</td>\n",
       "      <td>10+ years</td>\n",
       "      <td>MORTGAGE</td>\n",
       "      <td>86000.0</td>\n",
       "      <td>Not Verified</td>\n",
       "      <td>debt_consolidation</td>\n",
       "      <td>FL</td>\n",
       "      <td>6.96</td>\n",
       "      <td>0.0</td>\n",
       "      <td>680.0</td>\n",
       "      <td>684.0</td>\n",
       "      <td>1.0</td>\n",
       "      <td>10.0</td>\n",
       "      <td>16200.0</td>\n",
       "      <td>26.0</td>\n",
       "      <td>w</td>\n",
       "      <td>0.0</td>\n",
       "      <td>0.0</td>\n",
       "      <td>19453.010000</td>\n",
       "      <td>19453.01</td>\n",
       "      <td>19200.0</td>\n",
       "      <td>253.01</td>\n",
       "      <td>0.0</td>\n",
       "      <td>0.0</td>\n",
       "      <td>19082.47</td>\n",
       "      <td>689.0</td>\n",
       "      <td>685.0</td>\n",
       "      <td>0.0</td>\n",
       "      <td>Individual</td>\n",
       "      <td>0.0</td>\n",
       "      <td>0.0</td>\n",
       "      <td>217442.0</td>\n",
       "      <td>27500.0</td>\n",
       "      <td>3.0</td>\n",
       "      <td>21744.0</td>\n",
       "      <td>56.5</td>\n",
       "      <td>0.0</td>\n",
       "      <td>0.0</td>\n",
       "      <td>2.0</td>\n",
       "      <td>0.0</td>\n",
       "      <td>100.0</td>\n",
       "      <td>40.0</td>\n",
       "      <td>0.0</td>\n",
       "      <td>231070.0</td>\n",
       "      <td>0.0</td>\n",
       "      <td>N</td>\n",
       "      <td>Cash</td>\n",
       "      <td>N</td>\n",
       "      <td>1</td>\n",
       "      <td>May</td>\n",
       "      <td>2016</td>\n",
       "      <td>Aug</td>\n",
       "      <td>2016</td>\n",
       "      <td>Aug</td>\n",
       "      <td>2018</td>\n",
       "    </tr>\n",
       "    <tr>\n",
       "      <th>17462</th>\n",
       "      <td>6000.0</td>\n",
       "      <td>6000.0</td>\n",
       "      <td>6000.0</td>\n",
       "      <td>36 months</td>\n",
       "      <td>13.18</td>\n",
       "      <td>202.69</td>\n",
       "      <td>C</td>\n",
       "      <td>C3</td>\n",
       "      <td>NaN</td>\n",
       "      <td>OWN</td>\n",
       "      <td>23000.0</td>\n",
       "      <td>Verified</td>\n",
       "      <td>debt_consolidation</td>\n",
       "      <td>NY</td>\n",
       "      <td>32.20</td>\n",
       "      <td>0.0</td>\n",
       "      <td>670.0</td>\n",
       "      <td>674.0</td>\n",
       "      <td>3.0</td>\n",
       "      <td>12.0</td>\n",
       "      <td>5486.0</td>\n",
       "      <td>14.0</td>\n",
       "      <td>w</td>\n",
       "      <td>0.0</td>\n",
       "      <td>0.0</td>\n",
       "      <td>7131.861870</td>\n",
       "      <td>7131.86</td>\n",
       "      <td>6000.0</td>\n",
       "      <td>1131.86</td>\n",
       "      <td>0.0</td>\n",
       "      <td>0.0</td>\n",
       "      <td>2478.78</td>\n",
       "      <td>689.0</td>\n",
       "      <td>685.0</td>\n",
       "      <td>0.0</td>\n",
       "      <td>Individual</td>\n",
       "      <td>0.0</td>\n",
       "      <td>5807.0</td>\n",
       "      <td>15101.0</td>\n",
       "      <td>14900.0</td>\n",
       "      <td>5.0</td>\n",
       "      <td>1258.0</td>\n",
       "      <td>40.8</td>\n",
       "      <td>0.0</td>\n",
       "      <td>0.0</td>\n",
       "      <td>0.0</td>\n",
       "      <td>0.0</td>\n",
       "      <td>100.0</td>\n",
       "      <td>50.0</td>\n",
       "      <td>0.0</td>\n",
       "      <td>32577.0</td>\n",
       "      <td>17677.0</td>\n",
       "      <td>N</td>\n",
       "      <td>Cash</td>\n",
       "      <td>N</td>\n",
       "      <td>1</td>\n",
       "      <td>Dec</td>\n",
       "      <td>2015</td>\n",
       "      <td>Dec</td>\n",
       "      <td>2017</td>\n",
       "      <td>Mar</td>\n",
       "      <td>2019</td>\n",
       "    </tr>\n",
       "    <tr>\n",
       "      <th>119046</th>\n",
       "      <td>28000.0</td>\n",
       "      <td>28000.0</td>\n",
       "      <td>27975.0</td>\n",
       "      <td>36 months</td>\n",
       "      <td>7.89</td>\n",
       "      <td>876.00</td>\n",
       "      <td>A</td>\n",
       "      <td>A5</td>\n",
       "      <td>10+ years</td>\n",
       "      <td>MORTGAGE</td>\n",
       "      <td>150000.0</td>\n",
       "      <td>Verified</td>\n",
       "      <td>credit_card</td>\n",
       "      <td>CA</td>\n",
       "      <td>13.05</td>\n",
       "      <td>0.0</td>\n",
       "      <td>745.0</td>\n",
       "      <td>749.0</td>\n",
       "      <td>0.0</td>\n",
       "      <td>9.0</td>\n",
       "      <td>88641.0</td>\n",
       "      <td>23.0</td>\n",
       "      <td>f</td>\n",
       "      <td>0.0</td>\n",
       "      <td>0.0</td>\n",
       "      <td>31523.651597</td>\n",
       "      <td>31495.51</td>\n",
       "      <td>28000.0</td>\n",
       "      <td>3523.65</td>\n",
       "      <td>0.0</td>\n",
       "      <td>0.0</td>\n",
       "      <td>875.92</td>\n",
       "      <td>774.0</td>\n",
       "      <td>770.0</td>\n",
       "      <td>0.0</td>\n",
       "      <td>Individual</td>\n",
       "      <td>0.0</td>\n",
       "      <td>0.0</td>\n",
       "      <td>513895.0</td>\n",
       "      <td>109100.0</td>\n",
       "      <td>2.0</td>\n",
       "      <td>64237.0</td>\n",
       "      <td>68.4</td>\n",
       "      <td>0.0</td>\n",
       "      <td>0.0</td>\n",
       "      <td>2.0</td>\n",
       "      <td>0.0</td>\n",
       "      <td>100.0</td>\n",
       "      <td>33.3</td>\n",
       "      <td>0.0</td>\n",
       "      <td>556696.0</td>\n",
       "      <td>42796.0</td>\n",
       "      <td>N</td>\n",
       "      <td>Cash</td>\n",
       "      <td>N</td>\n",
       "      <td>1</td>\n",
       "      <td>Oct</td>\n",
       "      <td>2015</td>\n",
       "      <td>Oct</td>\n",
       "      <td>2018</td>\n",
       "      <td>Oct</td>\n",
       "      <td>2018</td>\n",
       "    </tr>\n",
       "    <tr>\n",
       "      <th>356579</th>\n",
       "      <td>7475.0</td>\n",
       "      <td>7475.0</td>\n",
       "      <td>7475.0</td>\n",
       "      <td>36 months</td>\n",
       "      <td>11.53</td>\n",
       "      <td>246.61</td>\n",
       "      <td>B</td>\n",
       "      <td>B5</td>\n",
       "      <td>6 years</td>\n",
       "      <td>OWN</td>\n",
       "      <td>78000.0</td>\n",
       "      <td>Source Verified</td>\n",
       "      <td>debt_consolidation</td>\n",
       "      <td>LA</td>\n",
       "      <td>0.18</td>\n",
       "      <td>0.0</td>\n",
       "      <td>705.0</td>\n",
       "      <td>709.0</td>\n",
       "      <td>0.0</td>\n",
       "      <td>4.0</td>\n",
       "      <td>12.0</td>\n",
       "      <td>6.0</td>\n",
       "      <td>f</td>\n",
       "      <td>0.0</td>\n",
       "      <td>0.0</td>\n",
       "      <td>8868.051264</td>\n",
       "      <td>8868.05</td>\n",
       "      <td>7475.0</td>\n",
       "      <td>1393.05</td>\n",
       "      <td>0.0</td>\n",
       "      <td>0.0</td>\n",
       "      <td>246.28</td>\n",
       "      <td>764.0</td>\n",
       "      <td>760.0</td>\n",
       "      <td>0.0</td>\n",
       "      <td>Individual</td>\n",
       "      <td>0.0</td>\n",
       "      <td>0.0</td>\n",
       "      <td>12.0</td>\n",
       "      <td>4500.0</td>\n",
       "      <td>2.0</td>\n",
       "      <td>3.0</td>\n",
       "      <td>0.3</td>\n",
       "      <td>0.0</td>\n",
       "      <td>0.0</td>\n",
       "      <td>0.0</td>\n",
       "      <td>0.0</td>\n",
       "      <td>83.3</td>\n",
       "      <td>0.0</td>\n",
       "      <td>0.0</td>\n",
       "      <td>4500.0</td>\n",
       "      <td>0.0</td>\n",
       "      <td>N</td>\n",
       "      <td>Cash</td>\n",
       "      <td>N</td>\n",
       "      <td>1</td>\n",
       "      <td>Mar</td>\n",
       "      <td>2015</td>\n",
       "      <td>Mar</td>\n",
       "      <td>2018</td>\n",
       "      <td>Mar</td>\n",
       "      <td>2019</td>\n",
       "    </tr>\n",
       "  </tbody>\n",
       "</table>\n",
       "<p>1105880 rows × 62 columns</p>\n",
       "</div>\n",
       "      <button class=\"colab-df-convert\" onclick=\"convertToInteractive('df-6a68b379-3f4a-420d-aebe-63b71b5ba8d1')\"\n",
       "              title=\"Convert this dataframe to an interactive table.\"\n",
       "              style=\"display:none;\">\n",
       "        \n",
       "  <svg xmlns=\"http://www.w3.org/2000/svg\" height=\"24px\"viewBox=\"0 0 24 24\"\n",
       "       width=\"24px\">\n",
       "    <path d=\"M0 0h24v24H0V0z\" fill=\"none\"/>\n",
       "    <path d=\"M18.56 5.44l.94 2.06.94-2.06 2.06-.94-2.06-.94-.94-2.06-.94 2.06-2.06.94zm-11 1L8.5 8.5l.94-2.06 2.06-.94-2.06-.94L8.5 2.5l-.94 2.06-2.06.94zm10 10l.94 2.06.94-2.06 2.06-.94-2.06-.94-.94-2.06-.94 2.06-2.06.94z\"/><path d=\"M17.41 7.96l-1.37-1.37c-.4-.4-.92-.59-1.43-.59-.52 0-1.04.2-1.43.59L10.3 9.45l-7.72 7.72c-.78.78-.78 2.05 0 2.83L4 21.41c.39.39.9.59 1.41.59.51 0 1.02-.2 1.41-.59l7.78-7.78 2.81-2.81c.8-.78.8-2.07 0-2.86zM5.41 20L4 18.59l7.72-7.72 1.47 1.35L5.41 20z\"/>\n",
       "  </svg>\n",
       "      </button>\n",
       "      \n",
       "  <style>\n",
       "    .colab-df-container {\n",
       "      display:flex;\n",
       "      flex-wrap:wrap;\n",
       "      gap: 12px;\n",
       "    }\n",
       "\n",
       "    .colab-df-convert {\n",
       "      background-color: #E8F0FE;\n",
       "      border: none;\n",
       "      border-radius: 50%;\n",
       "      cursor: pointer;\n",
       "      display: none;\n",
       "      fill: #1967D2;\n",
       "      height: 32px;\n",
       "      padding: 0 0 0 0;\n",
       "      width: 32px;\n",
       "    }\n",
       "\n",
       "    .colab-df-convert:hover {\n",
       "      background-color: #E2EBFA;\n",
       "      box-shadow: 0px 1px 2px rgba(60, 64, 67, 0.3), 0px 1px 3px 1px rgba(60, 64, 67, 0.15);\n",
       "      fill: #174EA6;\n",
       "    }\n",
       "\n",
       "    [theme=dark] .colab-df-convert {\n",
       "      background-color: #3B4455;\n",
       "      fill: #D2E3FC;\n",
       "    }\n",
       "\n",
       "    [theme=dark] .colab-df-convert:hover {\n",
       "      background-color: #434B5C;\n",
       "      box-shadow: 0px 1px 3px 1px rgba(0, 0, 0, 0.15);\n",
       "      filter: drop-shadow(0px 1px 2px rgba(0, 0, 0, 0.3));\n",
       "      fill: #FFFFFF;\n",
       "    }\n",
       "  </style>\n",
       "\n",
       "      <script>\n",
       "        const buttonEl =\n",
       "          document.querySelector('#df-6a68b379-3f4a-420d-aebe-63b71b5ba8d1 button.colab-df-convert');\n",
       "        buttonEl.style.display =\n",
       "          google.colab.kernel.accessAllowed ? 'block' : 'none';\n",
       "\n",
       "        async function convertToInteractive(key) {\n",
       "          const element = document.querySelector('#df-6a68b379-3f4a-420d-aebe-63b71b5ba8d1');\n",
       "          const dataTable =\n",
       "            await google.colab.kernel.invokeFunction('convertToInteractive',\n",
       "                                                     [key], {});\n",
       "          if (!dataTable) return;\n",
       "\n",
       "          const docLinkHtml = 'Like what you see? Visit the ' +\n",
       "            '<a target=\"_blank\" href=https://colab.research.google.com/notebooks/data_table.ipynb>data table notebook</a>'\n",
       "            + ' to learn more about interactive tables.';\n",
       "          element.innerHTML = '';\n",
       "          dataTable['output_type'] = 'display_data';\n",
       "          await google.colab.output.renderOutput(dataTable, element);\n",
       "          const docLink = document.createElement('div');\n",
       "          docLink.innerHTML = docLinkHtml;\n",
       "          element.appendChild(docLink);\n",
       "        }\n",
       "      </script>\n",
       "    </div>\n",
       "  </div>\n",
       "  "
      ],
      "text/plain": [
       "         loan_amnt  funded_amnt  ...  last_credit_pull_dmonth last_credit_pull_dyear\n",
       "93313      12000.0      12000.0  ...                      Oct                   2018\n",
       "644892     14000.0      14000.0  ...                      Sep                   2018\n",
       "682290      4500.0       4500.0  ...                      Jan                   2019\n",
       "1778326     5400.0       5400.0  ...                      Mar                   2016\n",
       "1994376    10000.0      10000.0  ...                      Aug                   2018\n",
       "...            ...          ...  ...                      ...                    ...\n",
       "149660      7000.0       7000.0  ...                      Sep                   2018\n",
       "692722     19200.0      19200.0  ...                      Aug                   2018\n",
       "17462       6000.0       6000.0  ...                      Mar                   2019\n",
       "119046     28000.0      28000.0  ...                      Oct                   2018\n",
       "356579      7475.0       7475.0  ...                      Mar                   2019\n",
       "\n",
       "[1105880 rows x 62 columns]"
      ]
     },
     "metadata": {},
     "execution_count": 20
    }
   ]
  },
  {
   "cell_type": "code",
   "source": [
    "dev_data.shape"
   ],
   "metadata": {
    "colab": {
     "base_uri": "https://localhost:8080/"
    },
    "id": "aFO6JESI3CJe",
    "outputId": "fb58f1b4-f2d5-4bf2-8047-14dfff6d5fce",
    "executionInfo": {
     "status": "ok",
     "timestamp": 1645963951247,
     "user_tz": -60,
     "elapsed": 519,
     "user": {
      "displayName": "Michał Hetmańczuk",
      "photoUrl": "https://lh3.googleusercontent.com/a-/AOh14Gjl0eVKOppNaOMif1fgMnSdZUS_dARQWIFF0VVr=s64",
      "userId": "04593032524005602763"
     }
    }
   },
   "execution_count": 21,
   "outputs": [
    {
     "output_type": "execute_result",
     "data": {
      "text/plain": [
       "(1105880, 62)"
      ]
     },
     "metadata": {},
     "execution_count": 21
    }
   ]
  },
  {
   "cell_type": "markdown",
   "source": [
    "## Eksploracyjna analiza danych"
   ],
   "metadata": {
    "collapsed": false,
    "pycharm": {
     "name": "#%% md\n"
    }
   }
  },
  {
   "cell_type": "markdown",
   "source": [
    "Bo wstępnym odrzuceniu znacznej części cech, wygenerowano raport sweetviz na potrzeby nieco głębszej analizy poszególnych zmiennych"
   ],
   "metadata": {
    "collapsed": false,
    "pycharm": {
     "name": "#%% md\n"
    }
   }
  },
  {
   "cell_type": "code",
   "source": [
    "eda_report = sv.analyze(dev_data)\n",
    "eda_report.show_html('data_processing/data_reports/EDA_Report.html')"
   ],
   "metadata": {
    "colab": {
     "base_uri": "https://localhost:8080/",
     "height": 66,
     "referenced_widgets": [
      "b4ecb4c41abc41f1882d449bae820098",
      "f1f16f1940584d2ea21a8787b318f655",
      "6385749f07f84215b12f7fd1ac630c73",
      "fd50a99be1dc47e6ad6487ce7a43780a",
      "bccd2124376b4a97a689e1f25ea91f58",
      "fc754a8253d64c5aabc3cf99783ade6a",
      "b9bff30dd7814a7fb3e45ea1f4b8d1aa",
      "1b35515c0ac14202ba2c583c499cb3f1",
      "1de407ddd766439b91d95339d8b85b75",
      "8714df9700f542458d1e226328db8cbc",
      "d67f65ab5a2b462a8076e490ef968c39"
     ]
    },
    "id": "szhsB-tQmaCK",
    "outputId": "670aff19-f73e-42c3-f666-52930511c053",
    "executionInfo": {
     "status": "ok",
     "timestamp": 1645965446903,
     "user_tz": -60,
     "elapsed": 1495670,
     "user": {
      "displayName": "Michał Hetmańczuk",
      "photoUrl": "https://lh3.googleusercontent.com/a-/AOh14Gjl0eVKOppNaOMif1fgMnSdZUS_dARQWIFF0VVr=s64",
      "userId": "04593032524005602763"
     }
    }
   },
   "execution_count": 22,
   "outputs": [
    {
     "output_type": "display_data",
     "data": {
      "application/vnd.jupyter.widget-view+json": {
       "model_id": "b4ecb4c41abc41f1882d449bae820098",
       "version_minor": 0,
       "version_major": 2
      },
      "text/plain": [
       "                                             |          | [  0%]   00:00 -> (? left)"
      ]
     },
     "metadata": {}
    },
    {
     "output_type": "stream",
     "name": "stdout",
     "text": [
      "Report data_processing/data_reports/EDA_Report.html was generated! NOTEBOOK/COLAB USERS: the web browser MAY not pop up, regardless, the report IS saved in your notebook/colab files.\n"
     ]
    }
   ]
  },
  {
   "cell_type": "markdown",
   "source": [
    "Na potrzeby zadania dokonano dwóch przykładowych analiz potencjalnego wpływu cechy na predykcję"
   ],
   "metadata": {
    "collapsed": false,
    "pycharm": {
     "name": "#%% md\n"
    }
   }
  },
  {
   "cell_type": "markdown",
   "source": [
    "Analizując stworzony raport stwierdzono że poniższe zmienne ciągłe mogą być wzajemnie zależne, co może oznaczać, iż nie ma potrzeby uwzględniać ich wszystkich w modelowaniu"
   ],
   "metadata": {
    "collapsed": false,
    "pycharm": {
     "name": "#%% md\n"
    }
   }
  },
  {
   "cell_type": "code",
   "source": [
    "cont_eda_features = ['loan_amnt', 'funded_amnt', 'funded_amnt_inv', 'total_pymnt', 'total_pymnt_inv']\n",
    "\n",
    "plt.figure(figsize=(20,5))\n",
    "sns.boxplot(data=dev_data[cont_eda_features])"
   ],
   "metadata": {
    "colab": {
     "base_uri": "https://localhost:8080/",
     "height": 452
    },
    "id": "RkSlJKG5HoJ_",
    "outputId": "7c1b8730-bf8e-4ad3-e3c0-e4d3bad83786",
    "executionInfo": {
     "status": "ok",
     "timestamp": 1645965447683,
     "user_tz": -60,
     "elapsed": 795,
     "user": {
      "displayName": "Michał Hetmańczuk",
      "photoUrl": "https://lh3.googleusercontent.com/a-/AOh14Gjl0eVKOppNaOMif1fgMnSdZUS_dARQWIFF0VVr=s64",
      "userId": "04593032524005602763"
     }
    }
   },
   "execution_count": 23,
   "outputs": [
    {
     "output_type": "execute_result",
     "data": {
      "text/plain": [
       "<matplotlib.axes._subplots.AxesSubplot at 0x7f07e05dfd50>"
      ]
     },
     "metadata": {},
     "execution_count": 23
    },
    {
     "output_type": "display_data",
     "data": {
      "image/png": "[encoded data removed]",
      "text/plain": [
       "<Figure size 2000x500 with 1 Axes>"
      ]
     },
     "metadata": {}
    }
   ]
  },
  {
   "cell_type": "code",
   "source": [
    "for feat in cont_eda_features + ['installment']:\n",
    "  sns.boxplot(data=dev_data[[feat, 'target']], x='target', y=feat)\n",
    "  plt.show()"
   ],
   "metadata": {
    "colab": {
     "base_uri": "https://localhost:8080/",
     "height": 1000
    },
    "id": "IQmdoyvEJkCh",
    "outputId": "6d12033c-333e-4233-9ed8-9d0540129bf6",
    "executionInfo": {
     "status": "ok",
     "timestamp": 1645965450048,
     "user_tz": -60,
     "elapsed": 2377,
     "user": {
      "displayName": "Michał Hetmańczuk",
      "photoUrl": "https://lh3.googleusercontent.com/a-/AOh14Gjl0eVKOppNaOMif1fgMnSdZUS_dARQWIFF0VVr=s64",
      "userId": "04593032524005602763"
     }
    }
   },
   "execution_count": 24,
   "outputs": [
    {
     "output_type": "display_data",
     "data": {
      "image/png": "[encoded data removed]",
      "text/plain": [
       "<Figure size 800x550 with 1 Axes>"
      ]
     },
     "metadata": {}
    },
    {
     "output_type": "display_data",
     "data": {
      "image/png": "[encoded data removed]",
      "text/plain": [
       "<Figure size 800x550 with 1 Axes>"
      ]
     },
     "metadata": {}
    },
    {
     "output_type": "display_data",
     "data": {
      "image/png": "[encoded data removed]",
      "text/plain": [
       "<Figure size 800x550 with 1 Axes>"
      ]
     },
     "metadata": {}
    },
    {
     "output_type": "display_data",
     "data": {
      "image/png": "[encoded data removed]",
      "text/plain": [
       "<Figure size 800x550 with 1 Axes>"
      ]
     },
     "metadata": {}
    },
    {
     "output_type": "display_data",
     "data": {
      "image/png": "[encoded data removed]",
      "text/plain": [
       "<Figure size 800x550 with 1 Axes>"
      ]
     },
     "metadata": {}
    },
    {
     "output_type": "display_data",
     "data": {
      "image/png": "[encoded data removed]",
      "text/plain": [
       "<Figure size 800x550 with 1 Axes>"
      ]
     },
     "metadata": {}
    }
   ]
  },
  {
   "cell_type": "markdown",
   "source": [
    "Uwzględniając zmienną objaśniaoną przy porówaniu rozkładów badanych cech, stwierdzono, iż można bezpiecznie usunąć ['funded_amnt', 'funded_amnt_inv'] (wydaje się to oczywiste w oparciu o nazwy, jednak zgodnie z proponowanym uproszczeniem, nie dokonano dogłębnej analizy znaczenia cech). Usunięto również zmienną installment która była silnie skorelowana z pozostałymi oraz, wydaje się mieć podobny wpływ na zmienną objaśnianą. W przypadku pozostałych zmiennych, wpływ na rozkłady zmiennej objaśnianej wydaje się inny, wobec czego na razie je pozostawiono."
   ],
   "metadata": {
    "collapsed": false,
    "pycharm": {
     "name": "#%% md\n"
    }
   }
  },
  {
   "cell_type": "code",
   "source": [
    "sns.distplot(dev_data.loan_amnt)"
   ],
   "metadata": {
    "colab": {
     "base_uri": "https://localhost:8080/",
     "height": 564
    },
    "id": "EqoM2CX3NWUx",
    "outputId": "f2d068e0-9b7c-4e80-fd45-b30cd3c50596",
    "executionInfo": {
     "status": "ok",
     "timestamp": 1645965456823,
     "user_tz": -60,
     "elapsed": 6782,
     "user": {
      "displayName": "Michał Hetmańczuk",
      "photoUrl": "https://lh3.googleusercontent.com/a-/AOh14Gjl0eVKOppNaOMif1fgMnSdZUS_dARQWIFF0VVr=s64",
      "userId": "04593032524005602763"
     }
    }
   },
   "execution_count": 25,
   "outputs": [
    {
     "output_type": "stream",
     "name": "stderr",
     "text": [
      "/usr/local/lib/python3.7/dist-packages/seaborn/distributions.py:2619: FutureWarning: `distplot` is a deprecated function and will be removed in a future version. Please adapt your code to use either `displot` (a figure-level function with similar flexibility) or `histplot` (an axes-level function for histograms).\n",
      "  warnings.warn(msg, FutureWarning)\n"
     ]
    },
    {
     "output_type": "execute_result",
     "data": {
      "text/plain": [
       "<matplotlib.axes._subplots.AxesSubplot at 0x7f07dd477250>"
      ]
     },
     "metadata": {},
     "execution_count": 25
    },
    {
     "output_type": "display_data",
     "data": {
      "image/png": "[encoded data removed]",
      "text/plain": [
       "<Figure size 800x550 with 1 Axes>"
      ]
     },
     "metadata": {}
    }
   ]
  },
  {
   "cell_type": "markdown",
   "source": [
    "Znaczący wpływ wydaje się mieć zmienna określająca wielkość wartości kredytu. Ciekawym jest kształt rozkładu chakrateruzujący się bardzo dużą liczbą esktremów lokalnych. Jednak jest to zrozumiałe - rzadko się zdarza aby ktoś brał kredy na sumę inną niż będącą wielokrotnością 1000. Można by było zastanowaić się czy nie należałoby tej zmiennej zdystkreyzować, jednak ze względu na ograniczony czas realizacji zadania, nie rozważono tej możliwości."
   ],
   "metadata": {
    "collapsed": false,
    "pycharm": {
     "name": "#%% md\n"
    }
   }
  },
  {
   "cell_type": "markdown",
   "source": [
    "Sprawdzono również znaczenie zmiennej grade z uwzględniemiem powiązanej zmiennej subgrade."
   ],
   "metadata": {
    "collapsed": false,
    "pycharm": {
     "name": "#%% md\n"
    }
   }
  },
  {
   "cell_type": "code",
   "source": [
    "sns.countplot(data=dev_data[['grade', 'target']], x='grade', hue='target', order=sorted(dev_data['grade'].astype(str).unique()))"
   ],
   "metadata": {
    "colab": {
     "base_uri": "https://localhost:8080/",
     "height": 508
    },
    "id": "7cKkyZeUUXLO",
    "outputId": "a0264883-aeb8-4f33-ec92-d47c5f8a9eba",
    "executionInfo": {
     "status": "ok",
     "timestamp": 1645965458065,
     "user_tz": -60,
     "elapsed": 1249,
     "user": {
      "displayName": "Michał Hetmańczuk",
      "photoUrl": "https://lh3.googleusercontent.com/a-/AOh14Gjl0eVKOppNaOMif1fgMnSdZUS_dARQWIFF0VVr=s64",
      "userId": "04593032524005602763"
     }
    }
   },
   "execution_count": 26,
   "outputs": [
    {
     "output_type": "execute_result",
     "data": {
      "text/plain": [
       "<matplotlib.axes._subplots.AxesSubplot at 0x7f07dd1ce690>"
      ]
     },
     "metadata": {},
     "execution_count": 26
    },
    {
     "output_type": "display_data",
     "data": {
      "image/png": "[encoded data removed]",
      "text/plain": [
       "<Figure size 800x550 with 1 Axes>"
      ]
     },
     "metadata": {}
    }
   ]
  },
  {
   "cell_type": "code",
   "source": [
    "sns.countplot(data=dev_data[['sub_grade', 'target']], x='sub_grade', hue='target', order=sorted(dev_data['sub_grade'].astype(str).unique()))"
   ],
   "metadata": {
    "colab": {
     "base_uri": "https://localhost:8080/",
     "height": 508
    },
    "id": "JWS-EjqpWawz",
    "outputId": "5473dcf4-c496-4c66-bbbc-4bacc7c63720",
    "executionInfo": {
     "status": "ok",
     "timestamp": 1645965459364,
     "user_tz": -60,
     "elapsed": 1307,
     "user": {
      "displayName": "Michał Hetmańczuk",
      "photoUrl": "https://lh3.googleusercontent.com/a-/AOh14Gjl0eVKOppNaOMif1fgMnSdZUS_dARQWIFF0VVr=s64",
      "userId": "04593032524005602763"
     }
    }
   },
   "execution_count": 27,
   "outputs": [
    {
     "output_type": "execute_result",
     "data": {
      "text/plain": [
       "<matplotlib.axes._subplots.AxesSubplot at 0x7f07dd148210>"
      ]
     },
     "metadata": {},
     "execution_count": 27
    },
    {
     "output_type": "display_data",
     "data": {
      "image/png": "[encoded data removed]",
      "text/plain": [
       "<Figure size 800x550 with 1 Axes>"
      ]
     },
     "metadata": {}
    }
   ]
  },
  {
   "cell_type": "markdown",
   "source": [
    "Obie zmienne wydają się mieć znaczenie dla predykcji. Jednak zmienna subgrade nie wydaje się wnosić dodatkowej wiedzy a uwzględnia dużo większą liczbę kategorii. W zbiorze pozostawiono tylko zmienną grade."
   ],
   "metadata": {
    "collapsed": false,
    "pycharm": {
     "name": "#%% md\n"
    }
   }
  },
  {
   "cell_type": "code",
   "source": [
    "dev_data.columns"
   ],
   "metadata": {
    "colab": {
     "base_uri": "https://localhost:8080/"
    },
    "id": "gC6Jx7a7qP7K",
    "executionInfo": {
     "status": "ok",
     "timestamp": 1645965459367,
     "user_tz": -60,
     "elapsed": 26,
     "user": {
      "displayName": "Michał Hetmańczuk",
      "photoUrl": "https://lh3.googleusercontent.com/a-/AOh14Gjl0eVKOppNaOMif1fgMnSdZUS_dARQWIFF0VVr=s64",
      "userId": "04593032524005602763"
     }
    },
    "outputId": "7a497ca6-de63-4a22-b5ca-890397a0e0bc"
   },
   "execution_count": 28,
   "outputs": [
    {
     "output_type": "execute_result",
     "data": {
      "text/plain": [
       "Index(['loan_amnt', 'funded_amnt', 'funded_amnt_inv', 'term', 'int_rate',\n",
       "       'installment', 'grade', 'sub_grade', 'emp_length', 'home_ownership',\n",
       "       'annual_inc', 'verification_status', 'purpose', 'addr_state', 'dti',\n",
       "       'delinq_2yrs', 'fico_range_low', 'fico_range_high', 'inq_last_6mths',\n",
       "       'open_acc', 'revol_bal', 'total_acc', 'initial_list_status',\n",
       "       'out_prncp', 'out_prncp_inv', 'total_pymnt', 'total_pymnt_inv',\n",
       "       'total_rec_prncp', 'total_rec_int', 'recoveries',\n",
       "       'collection_recovery_fee', 'last_pymnt_amnt', 'last_fico_range_high',\n",
       "       'last_fico_range_low', 'collections_12_mths_ex_med', 'application_type',\n",
       "       'acc_now_delinq', 'tot_coll_amt', 'tot_cur_bal', 'total_rev_hi_lim',\n",
       "       'acc_open_past_24mths', 'avg_cur_bal', 'bc_util',\n",
       "       'chargeoff_within_12_mths', 'delinq_amnt', 'mort_acc',\n",
       "       'num_accts_ever_120_pd', 'pct_tl_nvr_dlq', 'percent_bc_gt_75',\n",
       "       'tax_liens', 'tot_hi_cred_lim', 'total_il_high_credit_limit',\n",
       "       'hardship_flag', 'disbursement_method', 'debt_settlement_flag',\n",
       "       'target', 'issue_dmonth', 'issue_dyear', 'last_pymnt_dmonth',\n",
       "       'last_pymnt_dyear', 'last_credit_pull_dmonth',\n",
       "       'last_credit_pull_dyear'],\n",
       "      dtype='object')"
      ]
     },
     "metadata": {},
     "execution_count": 28
    }
   ]
  },
  {
   "cell_type": "markdown",
   "source": [
    "Dokonano kolejnej iteracji przeglądu (bardzo płytiego i szybkiego) opisu zmiennych z uwzględnieniem obliczonych w raporcie zależności. Wybrano kolejne cechy do odrzucenia."
   ],
   "metadata": {
    "collapsed": false,
    "pycharm": {
     "name": "#%% md\n"
    }
   }
  },
  {
   "cell_type": "code",
   "source": [
    "to_drop =  [\n",
    "            'funded_amnt', \n",
    "            'funded_amnt_inv', \n",
    "            'total_pymnt_inv', \n",
    "            'installment', \n",
    "            'sub_grade', \n",
    "            'emp_length', \n",
    "            'addr_state', \n",
    "            'purpose', \n",
    "            'fico_range_high',\n",
    "            'out_prncp',\n",
    "            'out_prncp_inv',\n",
    "            'total_rec_prncp',\n",
    "            'collection_recovery_fee',\n",
    "            'last_fico_range_high',\n",
    "            'total_rev_hi_lim',\n",
    "            'total_acc',\n",
    "            'tot_cur_bal',\n",
    "            'tot_hi_cred_lim',\n",
    "            'percent_bc_gt_75', \n",
    "            'issue_dmonth',\n",
    "            'last_pymnt_dmonth',\n",
    "            'issue_dyear',\n",
    "            'last_pymnt_dyear',\n",
    "            'last_credit_pull_dyear',\n",
    "            'delinq_2yrs',\n",
    "            'collections_12_mths_ex_med',\n",
    "            'tot_coll_amt',\n",
    "            'chargeoff_within_12_mths',\n",
    "            'delinq_amnt',\n",
    "            'mort_acc',\n",
    "            'num_accts_ever_120_pd',\n",
    "            'tax_liens',\n",
    "            'total_il_high_credit_limit'\n",
    "            ]\n",
    "dev_data = dev_data.drop(columns=to_drop)"
   ],
   "metadata": {
    "id": "5GVoo_wXXX3K",
    "executionInfo": {
     "status": "ok",
     "timestamp": 1645965459368,
     "user_tz": -60,
     "elapsed": 22,
     "user": {
      "displayName": "Michał Hetmańczuk",
      "photoUrl": "https://lh3.googleusercontent.com/a-/AOh14Gjl0eVKOppNaOMif1fgMnSdZUS_dARQWIFF0VVr=s64",
      "userId": "04593032524005602763"
     }
    }
   },
   "execution_count": 29,
   "outputs": []
  },
  {
   "cell_type": "markdown",
   "source": [
    "## Ostateczna selekcja cech i przekształcenie zmiennych kategorycznych"
   ],
   "metadata": {
    "collapsed": false,
    "pycharm": {
     "name": "#%% md\n"
    }
   }
  },
  {
   "cell_type": "code",
   "source": [
    "dev_data.dtypes"
   ],
   "metadata": {
    "colab": {
     "base_uri": "https://localhost:8080/"
    },
    "id": "ZKac4sX-td9q",
    "outputId": "3af9ea8b-3720-4905-a9a1-53202ee953d5",
    "executionInfo": {
     "status": "ok",
     "timestamp": 1645965459369,
     "user_tz": -60,
     "elapsed": 22,
     "user": {
      "displayName": "Michał Hetmańczuk",
      "photoUrl": "https://lh3.googleusercontent.com/a-/AOh14Gjl0eVKOppNaOMif1fgMnSdZUS_dARQWIFF0VVr=s64",
      "userId": "04593032524005602763"
     }
    }
   },
   "execution_count": 30,
   "outputs": [
    {
     "output_type": "execute_result",
     "data": {
      "text/plain": [
       "loan_amnt                  float64\n",
       "term                        object\n",
       "int_rate                   float64\n",
       "grade                       object\n",
       "home_ownership              object\n",
       "annual_inc                 float64\n",
       "verification_status         object\n",
       "dti                        float64\n",
       "fico_range_low             float64\n",
       "inq_last_6mths             float64\n",
       "open_acc                   float64\n",
       "revol_bal                  float64\n",
       "initial_list_status         object\n",
       "total_pymnt                float64\n",
       "total_rec_int              float64\n",
       "recoveries                 float64\n",
       "last_pymnt_amnt            float64\n",
       "last_fico_range_low        float64\n",
       "application_type            object\n",
       "acc_now_delinq             float64\n",
       "acc_open_past_24mths       float64\n",
       "avg_cur_bal                float64\n",
       "bc_util                    float64\n",
       "pct_tl_nvr_dlq             float64\n",
       "hardship_flag               object\n",
       "disbursement_method         object\n",
       "debt_settlement_flag        object\n",
       "target                       int64\n",
       "last_credit_pull_dmonth     object\n",
       "dtype: object"
      ]
     },
     "metadata": {},
     "execution_count": 30
    }
   ]
  },
  {
   "cell_type": "markdown",
   "source": [
    "Zweryfikowano zmienne kategoryczne pod kątem decyzji czy należy je zakodować binarnie czy metodą one-hot. Jednak wcześniej dokonano ostatniej iteracji przeglądu znaczenia cech, aby odrzucić te, które prawdopodbnie (ponowanie, nie zagłębiano się mocno w opisy cech) są ściśle związane ze zmienną objaśnianą - w kontekście badanego problemu pozwalają niemal wprost przewidzieć spłatę kredytu, lub nie są znane przed jej dokonaniem."
   ],
   "metadata": {
    "collapsed": false,
    "pycharm": {
     "name": "#%% md\n"
    }
   }
  },
  {
   "cell_type": "code",
   "source": [
    "to_drop = ['pct_tl_nvr_dlq', 'inq_last_6mths', 'total_pymnt', 'total_rec_int', 'last_pymnt_amnt', 'last_fico_range_low', 'recoveries', 'last_credit_pull_dmonth', 'debt_settlement_flag', 'hardship_flag']"
   ],
   "metadata": {
    "id": "XbUidwj1BZ1w",
    "executionInfo": {
     "status": "ok",
     "timestamp": 1645965459370,
     "user_tz": -60,
     "elapsed": 17,
     "user": {
      "displayName": "Michał Hetmańczuk",
      "photoUrl": "https://lh3.googleusercontent.com/a-/AOh14Gjl0eVKOppNaOMif1fgMnSdZUS_dARQWIFF0VVr=s64",
      "userId": "04593032524005602763"
     }
    }
   },
   "execution_count": 31,
   "outputs": []
  },
  {
   "cell_type": "code",
   "source": [
    "dev_data = dev_data.drop(columns=to_drop)"
   ],
   "metadata": {
    "id": "oPst1ZGmBa08",
    "executionInfo": {
     "status": "ok",
     "timestamp": 1645965459808,
     "user_tz": -60,
     "elapsed": 452,
     "user": {
      "displayName": "Michał Hetmańczuk",
      "photoUrl": "https://lh3.googleusercontent.com/a-/AOh14Gjl0eVKOppNaOMif1fgMnSdZUS_dARQWIFF0VVr=s64",
      "userId": "04593032524005602763"
     }
    }
   },
   "execution_count": 32,
   "outputs": []
  },
  {
   "cell_type": "markdown",
   "source": [
    "Zakodowano zmienne kategoryczne"
   ],
   "metadata": {
    "collapsed": false,
    "pycharm": {
     "name": "#%% md\n"
    }
   }
  },
  {
   "cell_type": "code",
   "source": [
    "binary_features = ['term', 'initial_list_status', 'application_type', 'disbursement_method']\n",
    "cat_features = ['grade', 'home_ownership', 'verification_status']"
   ],
   "metadata": {
    "id": "k8BU4K_Bto49",
    "executionInfo": {
     "status": "ok",
     "timestamp": 1645965480613,
     "user_tz": -60,
     "elapsed": 345,
     "user": {
      "displayName": "Michał Hetmańczuk",
      "photoUrl": "https://lh3.googleusercontent.com/a-/AOh14Gjl0eVKOppNaOMif1fgMnSdZUS_dARQWIFF0VVr=s64",
      "userId": "04593032524005602763"
     }
    }
   },
   "execution_count": 35,
   "outputs": []
  },
  {
   "cell_type": "code",
   "source": [
    "dev_data = one_hot_encode(dev_data, cat_features)"
   ],
   "metadata": {
    "id": "lxEoScqDx3Ix",
    "executionInfo": {
     "status": "ok",
     "timestamp": 1645965484863,
     "user_tz": -60,
     "elapsed": 3155,
     "user": {
      "displayName": "Michał Hetmańczuk",
      "photoUrl": "https://lh3.googleusercontent.com/a-/AOh14Gjl0eVKOppNaOMif1fgMnSdZUS_dARQWIFF0VVr=s64",
      "userId": "04593032524005602763"
     }
    }
   },
   "execution_count": 36,
   "outputs": []
  },
  {
   "cell_type": "code",
   "source": [
    "dev_data = binary_encode(dev_data, binary_features)"
   ],
   "metadata": {
    "colab": {
     "base_uri": "https://localhost:8080/"
    },
    "id": "g8KAilVKzOyS",
    "outputId": "28f563dc-6ee3-47c6-c3b7-611c5c69ede5",
    "executionInfo": {
     "status": "ok",
     "timestamp": 1645965511199,
     "user_tz": -60,
     "elapsed": 1948,
     "user": {
      "displayName": "Michał Hetmańczuk",
      "photoUrl": "https://lh3.googleusercontent.com/a-/AOh14Gjl0eVKOppNaOMif1fgMnSdZUS_dARQWIFF0VVr=s64",
      "userId": "04593032524005602763"
     }
    }
   },
   "execution_count": 37,
   "outputs": [
    {
     "output_type": "stream",
     "name": "stderr",
     "text": [
      "/usr/local/lib/python3.7/dist-packages/sklearn/preprocessing/_label.py:115: DataConversionWarning: A column-vector y was passed when a 1d array was expected. Please change the shape of y to (n_samples, ), for example using ravel().\n",
      "  y = column_or_1d(y, warn=True)\n"
     ]
    }
   ]
  },
  {
   "cell_type": "code",
   "source": [
    "dev_data"
   ],
   "metadata": {
    "colab": {
     "base_uri": "https://localhost:8080/",
     "height": 487
    },
    "id": "OA8jZgxHH2s1",
    "outputId": "a0745051-7b11-4067-baf5-25f04d5cce72",
    "executionInfo": {
     "status": "ok",
     "timestamp": 1645965513307,
     "user_tz": -60,
     "elapsed": 265,
     "user": {
      "displayName": "Michał Hetmańczuk",
      "photoUrl": "https://lh3.googleusercontent.com/a-/AOh14Gjl0eVKOppNaOMif1fgMnSdZUS_dARQWIFF0VVr=s64",
      "userId": "04593032524005602763"
     }
    }
   },
   "execution_count": 38,
   "outputs": [
    {
     "output_type": "execute_result",
     "data": {
      "text/html": [
       "\n",
       "  <div id=\"df-a80e22d5-e248-4013-976b-81c1985140bc\">\n",
       "    <div class=\"colab-df-container\">\n",
       "      <div>\n",
       "<style scoped>\n",
       "    .dataframe tbody tr th:only-of-type {\n",
       "        vertical-align: middle;\n",
       "    }\n",
       "\n",
       "    .dataframe tbody tr th {\n",
       "        vertical-align: top;\n",
       "    }\n",
       "\n",
       "    .dataframe thead th {\n",
       "        text-align: right;\n",
       "    }\n",
       "</style>\n",
       "<table border=\"1\" class=\"dataframe\">\n",
       "  <thead>\n",
       "    <tr style=\"text-align: right;\">\n",
       "      <th></th>\n",
       "      <th>loan_amnt</th>\n",
       "      <th>term</th>\n",
       "      <th>int_rate</th>\n",
       "      <th>annual_inc</th>\n",
       "      <th>dti</th>\n",
       "      <th>fico_range_low</th>\n",
       "      <th>open_acc</th>\n",
       "      <th>revol_bal</th>\n",
       "      <th>initial_list_status</th>\n",
       "      <th>application_type</th>\n",
       "      <th>acc_now_delinq</th>\n",
       "      <th>acc_open_past_24mths</th>\n",
       "      <th>avg_cur_bal</th>\n",
       "      <th>bc_util</th>\n",
       "      <th>disbursement_method</th>\n",
       "      <th>target</th>\n",
       "      <th>grade_A</th>\n",
       "      <th>grade_B</th>\n",
       "      <th>grade_C</th>\n",
       "      <th>grade_D</th>\n",
       "      <th>grade_E</th>\n",
       "      <th>grade_F</th>\n",
       "      <th>grade_G</th>\n",
       "      <th>home_ownership_ANY</th>\n",
       "      <th>home_ownership_MORTGAGE</th>\n",
       "      <th>home_ownership_NONE</th>\n",
       "      <th>home_ownership_OTHER</th>\n",
       "      <th>home_ownership_OWN</th>\n",
       "      <th>home_ownership_RENT</th>\n",
       "      <th>verification_status_Not Verified</th>\n",
       "      <th>verification_status_Source Verified</th>\n",
       "      <th>verification_status_Verified</th>\n",
       "    </tr>\n",
       "  </thead>\n",
       "  <tbody>\n",
       "    <tr>\n",
       "      <th>93313</th>\n",
       "      <td>12000.0</td>\n",
       "      <td>0</td>\n",
       "      <td>8.18</td>\n",
       "      <td>36000.0</td>\n",
       "      <td>26.80</td>\n",
       "      <td>715.0</td>\n",
       "      <td>15.0</td>\n",
       "      <td>8356.0</td>\n",
       "      <td>1</td>\n",
       "      <td>0</td>\n",
       "      <td>0.0</td>\n",
       "      <td>4.0</td>\n",
       "      <td>2048.0</td>\n",
       "      <td>29.9</td>\n",
       "      <td>0</td>\n",
       "      <td>1</td>\n",
       "      <td>0</td>\n",
       "      <td>1</td>\n",
       "      <td>0</td>\n",
       "      <td>0</td>\n",
       "      <td>0</td>\n",
       "      <td>0</td>\n",
       "      <td>0</td>\n",
       "      <td>0</td>\n",
       "      <td>1</td>\n",
       "      <td>0</td>\n",
       "      <td>0</td>\n",
       "      <td>0</td>\n",
       "      <td>0</td>\n",
       "      <td>1</td>\n",
       "      <td>0</td>\n",
       "      <td>0</td>\n",
       "    </tr>\n",
       "    <tr>\n",
       "      <th>644892</th>\n",
       "      <td>14000.0</td>\n",
       "      <td>0</td>\n",
       "      <td>5.32</td>\n",
       "      <td>61000.0</td>\n",
       "      <td>16.86</td>\n",
       "      <td>790.0</td>\n",
       "      <td>19.0</td>\n",
       "      <td>10064.0</td>\n",
       "      <td>1</td>\n",
       "      <td>0</td>\n",
       "      <td>0.0</td>\n",
       "      <td>5.0</td>\n",
       "      <td>5169.0</td>\n",
       "      <td>10.6</td>\n",
       "      <td>0</td>\n",
       "      <td>1</td>\n",
       "      <td>1</td>\n",
       "      <td>0</td>\n",
       "      <td>0</td>\n",
       "      <td>0</td>\n",
       "      <td>0</td>\n",
       "      <td>0</td>\n",
       "      <td>0</td>\n",
       "      <td>0</td>\n",
       "      <td>1</td>\n",
       "      <td>0</td>\n",
       "      <td>0</td>\n",
       "      <td>0</td>\n",
       "      <td>0</td>\n",
       "      <td>1</td>\n",
       "      <td>0</td>\n",
       "      <td>0</td>\n",
       "    </tr>\n",
       "    <tr>\n",
       "      <th>682290</th>\n",
       "      <td>4500.0</td>\n",
       "      <td>0</td>\n",
       "      <td>11.99</td>\n",
       "      <td>35000.0</td>\n",
       "      <td>19.72</td>\n",
       "      <td>685.0</td>\n",
       "      <td>8.0</td>\n",
       "      <td>3281.0</td>\n",
       "      <td>0</td>\n",
       "      <td>0</td>\n",
       "      <td>0.0</td>\n",
       "      <td>8.0</td>\n",
       "      <td>11356.0</td>\n",
       "      <td>41.5</td>\n",
       "      <td>0</td>\n",
       "      <td>1</td>\n",
       "      <td>0</td>\n",
       "      <td>0</td>\n",
       "      <td>1</td>\n",
       "      <td>0</td>\n",
       "      <td>0</td>\n",
       "      <td>0</td>\n",
       "      <td>0</td>\n",
       "      <td>0</td>\n",
       "      <td>0</td>\n",
       "      <td>0</td>\n",
       "      <td>0</td>\n",
       "      <td>0</td>\n",
       "      <td>1</td>\n",
       "      <td>0</td>\n",
       "      <td>1</td>\n",
       "      <td>0</td>\n",
       "    </tr>\n",
       "    <tr>\n",
       "      <th>1778326</th>\n",
       "      <td>5400.0</td>\n",
       "      <td>0</td>\n",
       "      <td>7.90</td>\n",
       "      <td>57783.0</td>\n",
       "      <td>15.74</td>\n",
       "      <td>720.0</td>\n",
       "      <td>10.0</td>\n",
       "      <td>12112.0</td>\n",
       "      <td>1</td>\n",
       "      <td>0</td>\n",
       "      <td>0.0</td>\n",
       "      <td>1.0</td>\n",
       "      <td>2500.0</td>\n",
       "      <td>83.9</td>\n",
       "      <td>0</td>\n",
       "      <td>1</td>\n",
       "      <td>1</td>\n",
       "      <td>0</td>\n",
       "      <td>0</td>\n",
       "      <td>0</td>\n",
       "      <td>0</td>\n",
       "      <td>0</td>\n",
       "      <td>0</td>\n",
       "      <td>0</td>\n",
       "      <td>0</td>\n",
       "      <td>0</td>\n",
       "      <td>0</td>\n",
       "      <td>0</td>\n",
       "      <td>1</td>\n",
       "      <td>0</td>\n",
       "      <td>1</td>\n",
       "      <td>0</td>\n",
       "    </tr>\n",
       "    <tr>\n",
       "      <th>1994376</th>\n",
       "      <td>10000.0</td>\n",
       "      <td>1</td>\n",
       "      <td>12.79</td>\n",
       "      <td>34000.0</td>\n",
       "      <td>6.81</td>\n",
       "      <td>675.0</td>\n",
       "      <td>16.0</td>\n",
       "      <td>7430.0</td>\n",
       "      <td>1</td>\n",
       "      <td>0</td>\n",
       "      <td>0.0</td>\n",
       "      <td>5.0</td>\n",
       "      <td>3720.0</td>\n",
       "      <td>33.9</td>\n",
       "      <td>0</td>\n",
       "      <td>1</td>\n",
       "      <td>0</td>\n",
       "      <td>0</td>\n",
       "      <td>1</td>\n",
       "      <td>0</td>\n",
       "      <td>0</td>\n",
       "      <td>0</td>\n",
       "      <td>0</td>\n",
       "      <td>0</td>\n",
       "      <td>1</td>\n",
       "      <td>0</td>\n",
       "      <td>0</td>\n",
       "      <td>0</td>\n",
       "      <td>0</td>\n",
       "      <td>0</td>\n",
       "      <td>1</td>\n",
       "      <td>0</td>\n",
       "    </tr>\n",
       "    <tr>\n",
       "      <th>...</th>\n",
       "      <td>...</td>\n",
       "      <td>...</td>\n",
       "      <td>...</td>\n",
       "      <td>...</td>\n",
       "      <td>...</td>\n",
       "      <td>...</td>\n",
       "      <td>...</td>\n",
       "      <td>...</td>\n",
       "      <td>...</td>\n",
       "      <td>...</td>\n",
       "      <td>...</td>\n",
       "      <td>...</td>\n",
       "      <td>...</td>\n",
       "      <td>...</td>\n",
       "      <td>...</td>\n",
       "      <td>...</td>\n",
       "      <td>...</td>\n",
       "      <td>...</td>\n",
       "      <td>...</td>\n",
       "      <td>...</td>\n",
       "      <td>...</td>\n",
       "      <td>...</td>\n",
       "      <td>...</td>\n",
       "      <td>...</td>\n",
       "      <td>...</td>\n",
       "      <td>...</td>\n",
       "      <td>...</td>\n",
       "      <td>...</td>\n",
       "      <td>...</td>\n",
       "      <td>...</td>\n",
       "      <td>...</td>\n",
       "      <td>...</td>\n",
       "    </tr>\n",
       "    <tr>\n",
       "      <th>149660</th>\n",
       "      <td>7000.0</td>\n",
       "      <td>0</td>\n",
       "      <td>15.61</td>\n",
       "      <td>20000.0</td>\n",
       "      <td>20.47</td>\n",
       "      <td>675.0</td>\n",
       "      <td>9.0</td>\n",
       "      <td>6674.0</td>\n",
       "      <td>1</td>\n",
       "      <td>0</td>\n",
       "      <td>0.0</td>\n",
       "      <td>4.0</td>\n",
       "      <td>742.0</td>\n",
       "      <td>81.7</td>\n",
       "      <td>0</td>\n",
       "      <td>1</td>\n",
       "      <td>0</td>\n",
       "      <td>0</td>\n",
       "      <td>0</td>\n",
       "      <td>1</td>\n",
       "      <td>0</td>\n",
       "      <td>0</td>\n",
       "      <td>0</td>\n",
       "      <td>0</td>\n",
       "      <td>0</td>\n",
       "      <td>0</td>\n",
       "      <td>0</td>\n",
       "      <td>1</td>\n",
       "      <td>0</td>\n",
       "      <td>0</td>\n",
       "      <td>0</td>\n",
       "      <td>1</td>\n",
       "    </tr>\n",
       "    <tr>\n",
       "      <th>692722</th>\n",
       "      <td>19200.0</td>\n",
       "      <td>1</td>\n",
       "      <td>8.39</td>\n",
       "      <td>86000.0</td>\n",
       "      <td>6.96</td>\n",
       "      <td>680.0</td>\n",
       "      <td>10.0</td>\n",
       "      <td>16200.0</td>\n",
       "      <td>1</td>\n",
       "      <td>0</td>\n",
       "      <td>0.0</td>\n",
       "      <td>3.0</td>\n",
       "      <td>21744.0</td>\n",
       "      <td>56.5</td>\n",
       "      <td>0</td>\n",
       "      <td>1</td>\n",
       "      <td>0</td>\n",
       "      <td>1</td>\n",
       "      <td>0</td>\n",
       "      <td>0</td>\n",
       "      <td>0</td>\n",
       "      <td>0</td>\n",
       "      <td>0</td>\n",
       "      <td>0</td>\n",
       "      <td>1</td>\n",
       "      <td>0</td>\n",
       "      <td>0</td>\n",
       "      <td>0</td>\n",
       "      <td>0</td>\n",
       "      <td>1</td>\n",
       "      <td>0</td>\n",
       "      <td>0</td>\n",
       "    </tr>\n",
       "    <tr>\n",
       "      <th>17462</th>\n",
       "      <td>6000.0</td>\n",
       "      <td>0</td>\n",
       "      <td>13.18</td>\n",
       "      <td>23000.0</td>\n",
       "      <td>32.20</td>\n",
       "      <td>670.0</td>\n",
       "      <td>12.0</td>\n",
       "      <td>5486.0</td>\n",
       "      <td>1</td>\n",
       "      <td>0</td>\n",
       "      <td>0.0</td>\n",
       "      <td>5.0</td>\n",
       "      <td>1258.0</td>\n",
       "      <td>40.8</td>\n",
       "      <td>0</td>\n",
       "      <td>1</td>\n",
       "      <td>0</td>\n",
       "      <td>0</td>\n",
       "      <td>1</td>\n",
       "      <td>0</td>\n",
       "      <td>0</td>\n",
       "      <td>0</td>\n",
       "      <td>0</td>\n",
       "      <td>0</td>\n",
       "      <td>0</td>\n",
       "      <td>0</td>\n",
       "      <td>0</td>\n",
       "      <td>1</td>\n",
       "      <td>0</td>\n",
       "      <td>0</td>\n",
       "      <td>0</td>\n",
       "      <td>1</td>\n",
       "    </tr>\n",
       "    <tr>\n",
       "      <th>119046</th>\n",
       "      <td>28000.0</td>\n",
       "      <td>0</td>\n",
       "      <td>7.89</td>\n",
       "      <td>150000.0</td>\n",
       "      <td>13.05</td>\n",
       "      <td>745.0</td>\n",
       "      <td>9.0</td>\n",
       "      <td>88641.0</td>\n",
       "      <td>0</td>\n",
       "      <td>0</td>\n",
       "      <td>0.0</td>\n",
       "      <td>2.0</td>\n",
       "      <td>64237.0</td>\n",
       "      <td>68.4</td>\n",
       "      <td>0</td>\n",
       "      <td>1</td>\n",
       "      <td>1</td>\n",
       "      <td>0</td>\n",
       "      <td>0</td>\n",
       "      <td>0</td>\n",
       "      <td>0</td>\n",
       "      <td>0</td>\n",
       "      <td>0</td>\n",
       "      <td>0</td>\n",
       "      <td>1</td>\n",
       "      <td>0</td>\n",
       "      <td>0</td>\n",
       "      <td>0</td>\n",
       "      <td>0</td>\n",
       "      <td>0</td>\n",
       "      <td>0</td>\n",
       "      <td>1</td>\n",
       "    </tr>\n",
       "    <tr>\n",
       "      <th>356579</th>\n",
       "      <td>7475.0</td>\n",
       "      <td>0</td>\n",
       "      <td>11.53</td>\n",
       "      <td>78000.0</td>\n",
       "      <td>0.18</td>\n",
       "      <td>705.0</td>\n",
       "      <td>4.0</td>\n",
       "      <td>12.0</td>\n",
       "      <td>0</td>\n",
       "      <td>0</td>\n",
       "      <td>0.0</td>\n",
       "      <td>2.0</td>\n",
       "      <td>3.0</td>\n",
       "      <td>0.3</td>\n",
       "      <td>0</td>\n",
       "      <td>1</td>\n",
       "      <td>0</td>\n",
       "      <td>1</td>\n",
       "      <td>0</td>\n",
       "      <td>0</td>\n",
       "      <td>0</td>\n",
       "      <td>0</td>\n",
       "      <td>0</td>\n",
       "      <td>0</td>\n",
       "      <td>0</td>\n",
       "      <td>0</td>\n",
       "      <td>0</td>\n",
       "      <td>1</td>\n",
       "      <td>0</td>\n",
       "      <td>0</td>\n",
       "      <td>1</td>\n",
       "      <td>0</td>\n",
       "    </tr>\n",
       "  </tbody>\n",
       "</table>\n",
       "<p>1105880 rows × 32 columns</p>\n",
       "</div>\n",
       "      <button class=\"colab-df-convert\" onclick=\"convertToInteractive('df-a80e22d5-e248-4013-976b-81c1985140bc')\"\n",
       "              title=\"Convert this dataframe to an interactive table.\"\n",
       "              style=\"display:none;\">\n",
       "        \n",
       "  <svg xmlns=\"http://www.w3.org/2000/svg\" height=\"24px\"viewBox=\"0 0 24 24\"\n",
       "       width=\"24px\">\n",
       "    <path d=\"M0 0h24v24H0V0z\" fill=\"none\"/>\n",
       "    <path d=\"M18.56 5.44l.94 2.06.94-2.06 2.06-.94-2.06-.94-.94-2.06-.94 2.06-2.06.94zm-11 1L8.5 8.5l.94-2.06 2.06-.94-2.06-.94L8.5 2.5l-.94 2.06-2.06.94zm10 10l.94 2.06.94-2.06 2.06-.94-2.06-.94-.94-2.06-.94 2.06-2.06.94z\"/><path d=\"M17.41 7.96l-1.37-1.37c-.4-.4-.92-.59-1.43-.59-.52 0-1.04.2-1.43.59L10.3 9.45l-7.72 7.72c-.78.78-.78 2.05 0 2.83L4 21.41c.39.39.9.59 1.41.59.51 0 1.02-.2 1.41-.59l7.78-7.78 2.81-2.81c.8-.78.8-2.07 0-2.86zM5.41 20L4 18.59l7.72-7.72 1.47 1.35L5.41 20z\"/>\n",
       "  </svg>\n",
       "      </button>\n",
       "      \n",
       "  <style>\n",
       "    .colab-df-container {\n",
       "      display:flex;\n",
       "      flex-wrap:wrap;\n",
       "      gap: 12px;\n",
       "    }\n",
       "\n",
       "    .colab-df-convert {\n",
       "      background-color: #E8F0FE;\n",
       "      border: none;\n",
       "      border-radius: 50%;\n",
       "      cursor: pointer;\n",
       "      display: none;\n",
       "      fill: #1967D2;\n",
       "      height: 32px;\n",
       "      padding: 0 0 0 0;\n",
       "      width: 32px;\n",
       "    }\n",
       "\n",
       "    .colab-df-convert:hover {\n",
       "      background-color: #E2EBFA;\n",
       "      box-shadow: 0px 1px 2px rgba(60, 64, 67, 0.3), 0px 1px 3px 1px rgba(60, 64, 67, 0.15);\n",
       "      fill: #174EA6;\n",
       "    }\n",
       "\n",
       "    [theme=dark] .colab-df-convert {\n",
       "      background-color: #3B4455;\n",
       "      fill: #D2E3FC;\n",
       "    }\n",
       "\n",
       "    [theme=dark] .colab-df-convert:hover {\n",
       "      background-color: #434B5C;\n",
       "      box-shadow: 0px 1px 3px 1px rgba(0, 0, 0, 0.15);\n",
       "      filter: drop-shadow(0px 1px 2px rgba(0, 0, 0, 0.3));\n",
       "      fill: #FFFFFF;\n",
       "    }\n",
       "  </style>\n",
       "\n",
       "      <script>\n",
       "        const buttonEl =\n",
       "          document.querySelector('#df-a80e22d5-e248-4013-976b-81c1985140bc button.colab-df-convert');\n",
       "        buttonEl.style.display =\n",
       "          google.colab.kernel.accessAllowed ? 'block' : 'none';\n",
       "\n",
       "        async function convertToInteractive(key) {\n",
       "          const element = document.querySelector('#df-a80e22d5-e248-4013-976b-81c1985140bc');\n",
       "          const dataTable =\n",
       "            await google.colab.kernel.invokeFunction('convertToInteractive',\n",
       "                                                     [key], {});\n",
       "          if (!dataTable) return;\n",
       "\n",
       "          const docLinkHtml = 'Like what you see? Visit the ' +\n",
       "            '<a target=\"_blank\" href=https://colab.research.google.com/notebooks/data_table.ipynb>data table notebook</a>'\n",
       "            + ' to learn more about interactive tables.';\n",
       "          element.innerHTML = '';\n",
       "          dataTable['output_type'] = 'display_data';\n",
       "          await google.colab.output.renderOutput(dataTable, element);\n",
       "          const docLink = document.createElement('div');\n",
       "          docLink.innerHTML = docLinkHtml;\n",
       "          element.appendChild(docLink);\n",
       "        }\n",
       "      </script>\n",
       "    </div>\n",
       "  </div>\n",
       "  "
      ],
      "text/plain": [
       "         loan_amnt  ...  verification_status_Verified\n",
       "93313      12000.0  ...                             0\n",
       "644892     14000.0  ...                             0\n",
       "682290      4500.0  ...                             0\n",
       "1778326     5400.0  ...                             0\n",
       "1994376    10000.0  ...                             0\n",
       "...            ...  ...                           ...\n",
       "149660      7000.0  ...                             1\n",
       "692722     19200.0  ...                             0\n",
       "17462       6000.0  ...                             1\n",
       "119046     28000.0  ...                             1\n",
       "356579      7475.0  ...                             0\n",
       "\n",
       "[1105880 rows x 32 columns]"
      ]
     },
     "metadata": {},
     "execution_count": 38
    }
   ]
  },
  {
   "cell_type": "markdown",
   "source": [
    "W wypadku realizacji tego projektu w większym czasie oraz na skalę produkcyjną, rozważonoby możliwość uzupłenienia brakujących wartości aby nie wyrzucać danych. W tym wypadku jednak dokonano uproszczenia i wiersze zawierające komórki nan zostaną usunięte przy modelowaniu, zwłaszcza że nie stanowią one bardzo dużej części zbioru."
   ],
   "metadata": {
    "collapsed": false,
    "pycharm": {
     "name": "#%% md\n"
    }
   }
  },
  {
   "cell_type": "code",
   "source": [
    "dev_data.dropna().shape[0] / dev_data.shape[0]"
   ],
   "metadata": {
    "id": "laLs8EwOBjt3",
    "colab": {
     "base_uri": "https://localhost:8080/"
    },
    "executionInfo": {
     "status": "ok",
     "timestamp": 1645965576639,
     "user_tz": -60,
     "elapsed": 1154,
     "user": {
      "displayName": "Michał Hetmańczuk",
      "photoUrl": "https://lh3.googleusercontent.com/a-/AOh14Gjl0eVKOppNaOMif1fgMnSdZUS_dARQWIFF0VVr=s64",
      "userId": "04593032524005602763"
     }
    },
    "outputId": "3f00237e-e86d-46c1-e2dd-dbd8bd8e68cd"
   },
   "execution_count": 40,
   "outputs": [
    {
     "output_type": "execute_result",
     "data": {
      "text/plain": [
       "0.9381180598256592"
      ]
     },
     "metadata": {},
     "execution_count": 40
    }
   ]
  }
 ]
}